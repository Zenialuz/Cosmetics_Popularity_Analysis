{
 "cells": [
  {
   "cell_type": "markdown",
   "id": "eadb561b",
   "metadata": {},
   "source": [
    "## Proyecto \n"
   ]
  },
  {
   "cell_type": "markdown",
   "id": "c9526809",
   "metadata": {},
   "source": [
    "### 1. Librerías Usadas"
   ]
  },
  {
   "cell_type": "code",
   "execution_count": 27,
   "id": "724dfd8f",
   "metadata": {},
   "outputs": [],
   "source": [
    "import undetected_chromedriver as uc\n",
    "from selenium import webdriver\n",
    "from selenium.webdriver.chrome.service import Service\n",
    "from selenium.webdriver.common.by import By\n",
    "from selenium.webdriver.support.ui import WebDriverWait\n",
    "from selenium.webdriver.support import expected_conditions as EC\n",
    "from selenium.common.exceptions import TimeoutException, NoSuchElementException\n",
    "from webdriver_manager.chrome import ChromeDriverManager\n",
    "from bs4 import BeautifulSoup\n",
    "import pandas as pd\n",
    "import time\n",
    "import matplotlib.pyplot as plt\n",
    "import seaborn as sns\n",
    "import plotly.graph_objects as go\n",
    "import plotly.express as px\n",
    "import nbformat\n",
    "import ipywidgets as widgets\n",
    "import plotly.io as pio\n",
    "import os\n",
    "import plotly.express as px\n"
   ]
  },
  {
   "cell_type": "code",
   "execution_count": null,
   "id": "2f37d280",
   "metadata": {},
   "outputs": [],
   "source": [
    "# Ruta de archivo para guardar y obtener los datos en csv\n",
    "data_csv = \"data/Primor/data_primor_lujo.csv\"\n",
    "\n",
    "# Lista de url de las categorías de productos\n",
    "categorias = [\n",
    "        (\"Hidratantes y Nutrivas\", \"https://www.primor.eu/es_es/hidratantes-y-nutritivas-lujo\"),\n",
    "        (\"Antiarrugas y antiedad\", \"https://www.primor.eu/es_es/antiarrugas-y-antiedad-lujo\"),\n",
    "        (\"Contorno de Ojos\", \"https://www.primor.eu/es_es/contorno-de-ojos-lujo\"),\n",
    "        (\"Tratamientos especificos\", \"https://www.primor.eu/es_es/tratamientos-especificos-lujo\"),\n",
    "        (\"limpiadoras tonicos\", \"https://www.primor.eu/es_es/limpiadoras-tonicos-lujo\"),\n",
    "        (\"cofres\", \"https://www.primor.eu/es_es/cofres-lujo-1\"),\n",
    "        (\"labios balsamos y cuidados\", \"https://www.primor.eu/es_es/labios-balsamos-y-cuidados-lujo\"),\n",
    "        (\"Antimanchas\", \"https://www.primor.eu/es_es/antimanchas-lujo\"),\n",
    "        (\"Exfoliantes\", \"https://www.primor.eu/es_es/exfoliantes-lujo\"),\n",
    "        (\"Tratamientos calmantes\", \"https://www.primor.eu/es_es/tratamientos-calmantes-y-para-piel-sensible\")\n",
    "    ]\n",
    "\n",
    "# Lista de parámetros de tipos de piel para construir la url de los productos\n",
    "tipos_de_piel = [\n",
    "        (\"Normal\", 66101),\n",
    "        (\"Deshidratada\", 66094),\n",
    "        (\"Sensible\", 66110), \n",
    "        (\"Todo tipo de piel\", 66111),\n",
    "        (\"Madura\", 66097),\n",
    "        (\"Muy seca\", 66100),\n",
    "        (\"seca\", 66107),\n",
    "        (\"Grasa\", 66096),\n",
    "        (\"Mixta\", 66098),\n",
    "        (\"Mixta a Grasa\", 66099),\n",
    "        (\"Normal a seca\", 66104),\n",
    "        (\"seca-muy seca\", 66109),\n",
    "        (\"seca - mixta\", 66108),\n",
    "        (\"atopica\", 66092),\n",
    "        (\"Delicadas\", 66093),\n",
    "        (\"Apagadas\", 66091)\n",
    "    ]\n",
    "\n",
    " # Lista de parámetros de zonas de aplicación para construir la url de los productos   \n",
    "zonas_aplicacion = [        \n",
    "        (\"Rostro\", 66325),\n",
    "        (\"Cuerpo\", 66309),\n",
    "        (\"Manos\", 66315),\n",
    "        (\"Ojos\", 66319),\n",
    "        (\"Cuello\", 66308)      \n",
    "    ]\n"
   ]
  },
  {
   "cell_type": "markdown",
   "id": "d6d30042",
   "metadata": {},
   "source": [
    "### 2. Obteniendo la data con Scraping de la página web de PRIMOR"
   ]
  },
  {
   "cell_type": "code",
   "execution_count": 28,
   "id": "5f102980",
   "metadata": {},
   "outputs": [],
   "source": [
    "def connect_and_get_html(url):\n",
    "    # ------------- Configurando Selenium -------------------------\n",
    "    # Configuración de opciones para el navegador\n",
    "    # Se utiliza ChromeDriverManager para instalar y gestionar el controlador de Chrome automáticamente. \n",
    "    \n",
    "    options = webdriver.ChromeOptions()\n",
    "    options.add_argument(\"--headless\")  # Ejecutar en modo headless (opcional)\n",
    "    options.add_argument(\"user-agent=Mozilla/5.0 (Windows NT 10.0; Win64; x64) AppleWebKit/537.36 (KHTML, like Gecko) Chrome/91.0.4472.124 Safari/537.36\")\n",
    "    driver = webdriver.Chrome(service=Service(ChromeDriverManager().install()), options=options)\n",
    "    html = False # Inicializamos html como False para manejar el caso de error\n",
    "    \n",
    "    # Obteniendo la URL\n",
    "    driver.get(url)\n",
    "    \n",
    "    # Verificando si existe el div con la clase \"message info empty\"\n",
    "    try:\n",
    "        empty_message = driver.find_element(By.CLASS_NAME, \"message.info.empty\")\n",
    "        print(f\"No hay productos en la página: {url}\")\n",
    "        driver.quit()\n",
    "        return False\n",
    "    except NoSuchElementException:\n",
    "        # Si no se encuentra el div \"message info empty\", continuar con el scraping\n",
    "        pass\n",
    "    \n",
    "    for attempt in range(3):  # Intentar hasta 3 veces\n",
    "        try:\n",
    "            driver = webdriver.Chrome(service=Service(ChromeDriverManager().install()), options=options)\n",
    "            driver.get(url)\n",
    "            \n",
    "            try:\n",
    "                # Configurar WebDriverWait con sondeo personalizado e ignorar excepciones\n",
    "                wait = WebDriverWait(driver, 15, poll_frequency=0.2, ignored_exceptions=[NoSuchElementException])\n",
    "                \n",
    "                # Esperar hasta que el elemento dinámico esté presente\n",
    "                element = wait.until(\n",
    "                    EC.presence_of_element_located((By.CLASS_NAME, \"pr-stars\"))\n",
    "                )\n",
    "                print(\"Elemento encontrado:\", element.get_attribute(\"style\"))\n",
    "                \n",
    "                # Obtener el HTML renderizado\n",
    "                html = driver.page_source\n",
    "            except TimeoutException:\n",
    "                print(\"El elemento 'pr-stars' no se cargó en el tiempo esperado.\")\n",
    "                driver.quit()\n",
    "                return False\n",
    "            finally:\n",
    "                driver.quit()\n",
    "            \n",
    "            break  # Salir del bucle si tiene éxito\n",
    "        except Exception as e:\n",
    "            print(f\"Error en intento {attempt + 1}: {e}\")\n",
    "            time.sleep(5)  # Esperar antes de reintentar\n",
    "        finally:\n",
    "            driver.quit()\n",
    "\n",
    "    return html"
   ]
  },
  {
   "cell_type": "code",
   "execution_count": 29,
   "id": "a068bc3b",
   "metadata": {},
   "outputs": [],
   "source": [
    "def scraping_pagina(url, output_df, categoria, tipo_piel, zona_aplicacion):\n",
    "    \n",
    "    # Conectar y obtener el HTML de la página\n",
    "    html = connect_and_get_html(url)\n",
    "    \n",
    "    if not html:\n",
    "        print(f\"Error al obtener el HTML de la página: {url}\")\n",
    "        return output_df        \n",
    "    \n",
    "    # Usar BeautifulSoup para analizar el HTML\n",
    "    soup = BeautifulSoup(html, \"html.parser\")\n",
    "    \n",
    "    # Buscar todos los <li> dentro de un <ul>\n",
    "    lista_items = soup.find_all(\"li\")\n",
    "    \n",
    "    # Listas para almacenar los datos extraídos\n",
    "    marcas_producto = []\n",
    "    descripciones_producto = []\n",
    "    calificaciones_producto = []\n",
    "    total_calificadores = []\n",
    "    precios_producto = []\n",
    "    categorias_producto = []\n",
    "    tipos_piel = []\n",
    "    zonas_aplicacion = []\n",
    "    \n",
    "    for li in lista_items:\n",
    "        # Buscar <form> dentro del <li>\n",
    "        form = li.find(\"form\")\n",
    "        if form:\n",
    "            \n",
    "            categorias_producto.append(categoria)\n",
    "            tipos_piel.append(tipo_piel)\n",
    "            zonas_aplicacion.append(zona_aplicacion)\n",
    "            \n",
    "            # Buscar <div> con la clase específica dentro del <form>\n",
    "            div = form.find(\"div\", class_=\"text-sm font-bold uppercase\")\n",
    "           \n",
    "            marcas_producto.append(div.get_text(strip=True) if div else None)  # Extraer el texto del <div> o agregar un valor nulo si no existe\n",
    "            \n",
    "            # Buscar <a> con la clase específica dentro del <form>\n",
    "            a = form.find(\"a\", class_=\"product-item-link inline-block text-sm leading-4\")\n",
    "            descripciones_producto.append(a.get_text(strip=True) if a else None)  # Extraer el texto del <a> o agregar un valor nulo si no existe\n",
    "            \n",
    "            # Buscar <span> con la clase específica para precios\n",
    "            span_precio = form.find(\"span\", class_=\"price-wrapper\")\n",
    "            precios_producto.append(span_precio.get_text(strip=True) if span_precio else None)  # Extraer el texto del <span> o agregar un valor nulo si no existe\n",
    "    \n",
    "            # Buscar <div> con la clase específica para calificaciones\n",
    "            div2 = form.find(\"div\", class_=\"pr-stars\")\n",
    "            if div2:\n",
    "                calificaciones_producto.append(div2.get(\"style\"))  # Extraer el atributo 'style'\n",
    "                span = div2.find(\"span\")\n",
    "                total_calificadores.append(span.get_text(strip=True) if span else None)\n",
    "            else:\n",
    "                calificaciones_producto.append(None)  # Si no hay <div>, agregar un valor nulo\n",
    "                total_calificadores.append(None)\n",
    "            \n",
    "            \n",
    "    # Crear un DataFrame con las columnas\n",
    "    precios_producto = [precio.replace(\"€\", \"\").replace(\",\", \".\").strip() if precio else None for precio in precios_producto]\n",
    "    df = pd.DataFrame({\n",
    "        \"marca\": marcas_producto,\n",
    "        \"descripcion\": descripciones_producto,\n",
    "        \"calificacion\": calificaciones_producto,\n",
    "        \"total_calificadores\": total_calificadores,\n",
    "        \"precio\": precios_producto,\n",
    "        \"categoria\": categorias_producto,\n",
    "        \"tipo_piel\": tipos_piel,\n",
    "        \"zona_aplicacion\": zonas_aplicacion\n",
    "    })\n",
    "    \n",
    "    #Concatenamos los resultados de la página actual con los resultados de las páginas anteriores\n",
    "    output_df = pd.concat([output_df, df], ignore_index=True)\n",
    "    return output_df"
   ]
  },
  {
   "cell_type": "code",
   "execution_count": null,
   "id": "beb28dbd",
   "metadata": {},
   "outputs": [],
   "source": [
    "def sraping_webSite(categorias, tipos_de_piel, zonas_aplicacion, output_csv):\n",
    "    output_df = pd.DataFrame(columns=[\"marca\", \"descripcion\", \"calificacion\", \"total_calificadores\", \"precio\", \"categoria\", \"tipo_piel\",\"zona_aplicacion\"])\n",
    "    \n",
    "    \n",
    "    # Recorrer las categorías y tipos de piel\n",
    "    for categoria, url_categoria in categorias:\n",
    "        print(f\"\\nCategoría: {categoria}\")\n",
    "        \n",
    "        for tipo_piel, codigo in tipos_de_piel:\n",
    "            print(f\"\\n  Tipo de piel: {tipo_piel}\")\n",
    "            for zona, codigo_zona in zonas_aplicacion:\n",
    "                print(f\"\\n   Zona de aplicación: {zona}\")\n",
    "                \n",
    "                for pagina in range(1, 3):  # Cambia el rango según el número de páginas que se va recorrer\n",
    "                    # Concatenar el código del tipo de piel como parámetro en la URL\n",
    "                    url_con_parametro = f\"{url_categoria}?tipo_piel={codigo}&zona_cara={codigo_zona}&p={pagina}\"\n",
    "                    print(f\"    URL: {url_con_parametro}\")\n",
    "            \n",
    "                    output_df = scraping_pagina(url_con_parametro, output_df, categoria, tipo_piel, zona)\n",
    "                \n",
    "        if output_df is None or output_df.empty:\n",
    "            print(f\"Advertencia: No se encontraron datos para la categoría {categoria}.\")\n",
    "        else:\n",
    "            # output_csv = f\"data/Primor/data_primor_lujo.csv\"           \n",
    "            output_df.to_csv(output_csv, mode='w', header=True, index=False, encoding=\"utf-8\")\n",
    "            print(f\"Datos exportados a {output_csv}\")\n",
    "        \n",
    "    return output_df           \n",
    "\n",
    "\n"
   ]
  },
  {
   "cell_type": "code",
   "execution_count": null,
   "id": "7e641c96",
   "metadata": {},
   "outputs": [
    {
     "name": "stdout",
     "output_type": "stream",
     "text": [
      "\n",
      "Categoría: Hidratantes y Nutrivas\n",
      "\n",
      "  Tipo de piel: Normal\n",
      "\n",
      "   Zona de aplicación: Rostro\n",
      "    URL: https://www.primor.eu/es_es/hidratantes-y-nutritivas-lujo?tipo_piel=66101&zona_cara=66325&p=1\n",
      "Elemento encontrado: --stars: 4.69;\n",
      "    URL: https://www.primor.eu/es_es/hidratantes-y-nutritivas-lujo?tipo_piel=66101&zona_cara=66325&p=2\n",
      "No hay productos en la página: https://www.primor.eu/es_es/hidratantes-y-nutritivas-lujo?tipo_piel=66101&zona_cara=66325&p=2\n",
      "Error al obtener el HTML de la página: https://www.primor.eu/es_es/hidratantes-y-nutritivas-lujo?tipo_piel=66101&zona_cara=66325&p=2\n",
      "Datos exportados a data/Primor/data_primor_lujo.csv\n"
     ]
    },
    {
     "data": {
      "text/html": [
       "<div>\n",
       "<style scoped>\n",
       "    .dataframe tbody tr th:only-of-type {\n",
       "        vertical-align: middle;\n",
       "    }\n",
       "\n",
       "    .dataframe tbody tr th {\n",
       "        vertical-align: top;\n",
       "    }\n",
       "\n",
       "    .dataframe thead th {\n",
       "        text-align: right;\n",
       "    }\n",
       "</style>\n",
       "<table border=\"1\" class=\"dataframe\">\n",
       "  <thead>\n",
       "    <tr style=\"text-align: right;\">\n",
       "      <th></th>\n",
       "      <th>marca</th>\n",
       "      <th>descripcion</th>\n",
       "      <th>calificacion</th>\n",
       "      <th>total_calificadores</th>\n",
       "      <th>precio</th>\n",
       "      <th>categoria</th>\n",
       "      <th>tipo_piel</th>\n",
       "      <th>zona_aplicacion</th>\n",
       "    </tr>\n",
       "  </thead>\n",
       "  <tbody>\n",
       "    <tr>\n",
       "      <th>0</th>\n",
       "      <td>Elizabeth Arden</td>\n",
       "      <td>Visible Difference Crema Hidratante</td>\n",
       "      <td>--stars:4.69</td>\n",
       "      <td>(77)</td>\n",
       "      <td>52.00</td>\n",
       "      <td>Hidratantes y Nutrivas</td>\n",
       "      <td>Normal</td>\n",
       "      <td>Rostro</td>\n",
       "    </tr>\n",
       "    <tr>\n",
       "      <th>1</th>\n",
       "      <td>Kiehl's</td>\n",
       "      <td>Ultra Facial Oil-Free Gel Cream Crema Hidratante</td>\n",
       "      <td>--stars:4.82</td>\n",
       "      <td>(51)</td>\n",
       "      <td>22.00</td>\n",
       "      <td>Hidratantes y Nutrivas</td>\n",
       "      <td>Normal</td>\n",
       "      <td>Rostro</td>\n",
       "    </tr>\n",
       "    <tr>\n",
       "      <th>2</th>\n",
       "      <td>Clinique</td>\n",
       "      <td>Moisture Surge Crema Hidratante con Color SPF 25</td>\n",
       "      <td>--stars:5.00</td>\n",
       "      <td>(4)</td>\n",
       "      <td>39.00</td>\n",
       "      <td>Hidratantes y Nutrivas</td>\n",
       "      <td>Normal</td>\n",
       "      <td>Rostro</td>\n",
       "    </tr>\n",
       "    <tr>\n",
       "      <th>3</th>\n",
       "      <td>Origins</td>\n",
       "      <td>Ginzing SPF 40 Energy-Boosting Tinted Moisturizer</td>\n",
       "      <td>--stars:4.75</td>\n",
       "      <td>(4)</td>\n",
       "      <td>44.00</td>\n",
       "      <td>Hidratantes y Nutrivas</td>\n",
       "      <td>Normal</td>\n",
       "      <td>Rostro</td>\n",
       "    </tr>\n",
       "    <tr>\n",
       "      <th>4</th>\n",
       "      <td>Clarins</td>\n",
       "      <td>Multi-Intensiva Crema de Día Todo Tipo de Piel</td>\n",
       "      <td>--stars:4.88</td>\n",
       "      <td>(48)</td>\n",
       "      <td>130.00</td>\n",
       "      <td>Hidratantes y Nutrivas</td>\n",
       "      <td>Normal</td>\n",
       "      <td>Rostro</td>\n",
       "    </tr>\n",
       "    <tr>\n",
       "      <th>5</th>\n",
       "      <td>Elizabeth Arden</td>\n",
       "      <td>8 Hour Cream Hidratante de Noche</td>\n",
       "      <td>--stars:3.67</td>\n",
       "      <td>(6)</td>\n",
       "      <td>49.00</td>\n",
       "      <td>Hidratantes y Nutrivas</td>\n",
       "      <td>Normal</td>\n",
       "      <td>Rostro</td>\n",
       "    </tr>\n",
       "    <tr>\n",
       "      <th>6</th>\n",
       "      <td>Clinique</td>\n",
       "      <td>Clinique For Men Maximum Hydrator Gel Hidratante</td>\n",
       "      <td>--stars:5.00</td>\n",
       "      <td>(1)</td>\n",
       "      <td>51.00</td>\n",
       "      <td>Hidratantes y Nutrivas</td>\n",
       "      <td>Normal</td>\n",
       "      <td>Rostro</td>\n",
       "    </tr>\n",
       "    <tr>\n",
       "      <th>7</th>\n",
       "      <td>Clarins</td>\n",
       "      <td>Rose Radiance Crema Multi-Intensiva</td>\n",
       "      <td>--stars:4.33</td>\n",
       "      <td>(6)</td>\n",
       "      <td>130.00</td>\n",
       "      <td>Hidratantes y Nutrivas</td>\n",
       "      <td>Normal</td>\n",
       "      <td>Rostro</td>\n",
       "    </tr>\n",
       "    <tr>\n",
       "      <th>8</th>\n",
       "      <td>Dior</td>\n",
       "      <td>DIOR HYDRA LIFE Crème Sorbet Intense Crema Hid...</td>\n",
       "      <td>--stars:5.00</td>\n",
       "      <td>(1)</td>\n",
       "      <td>75.10</td>\n",
       "      <td>Hidratantes y Nutrivas</td>\n",
       "      <td>Normal</td>\n",
       "      <td>Rostro</td>\n",
       "    </tr>\n",
       "    <tr>\n",
       "      <th>9</th>\n",
       "      <td>Dior</td>\n",
       "      <td>DIOR HYDRA LIFE Crème Sorbet Fraîcheur Crema H...</td>\n",
       "      <td>--stars:5.00</td>\n",
       "      <td>(2)</td>\n",
       "      <td>75.10</td>\n",
       "      <td>Hidratantes y Nutrivas</td>\n",
       "      <td>Normal</td>\n",
       "      <td>Rostro</td>\n",
       "    </tr>\n",
       "    <tr>\n",
       "      <th>10</th>\n",
       "      <td>Yves Saint Laurent</td>\n",
       "      <td>Pure Shots Perfect Plumper Crema Hidratante</td>\n",
       "      <td>None</td>\n",
       "      <td>None</td>\n",
       "      <td>110.00</td>\n",
       "      <td>Hidratantes y Nutrivas</td>\n",
       "      <td>Normal</td>\n",
       "      <td>Rostro</td>\n",
       "    </tr>\n",
       "    <tr>\n",
       "      <th>11</th>\n",
       "      <td>Origins</td>\n",
       "      <td>High-Potency Night a Mins Cream Hidratante y P...</td>\n",
       "      <td>None</td>\n",
       "      <td>None</td>\n",
       "      <td>53.00</td>\n",
       "      <td>Hidratantes y Nutrivas</td>\n",
       "      <td>Normal</td>\n",
       "      <td>Rostro</td>\n",
       "    </tr>\n",
       "    <tr>\n",
       "      <th>12</th>\n",
       "      <td>Origins</td>\n",
       "      <td>Ginzing Gel Hidratante Iluminador</td>\n",
       "      <td>--stars:5.00</td>\n",
       "      <td>(3)</td>\n",
       "      <td>39.00</td>\n",
       "      <td>Hidratantes y Nutrivas</td>\n",
       "      <td>Normal</td>\n",
       "      <td>Rostro</td>\n",
       "    </tr>\n",
       "    <tr>\n",
       "      <th>13</th>\n",
       "      <td>BareMinerals</td>\n",
       "      <td>Skinlongevity Phyto-Vitamin Crema Hidratante I...</td>\n",
       "      <td>--stars:5.00</td>\n",
       "      <td>(1)</td>\n",
       "      <td>56.00</td>\n",
       "      <td>Hidratantes y Nutrivas</td>\n",
       "      <td>Normal</td>\n",
       "      <td>Rostro</td>\n",
       "    </tr>\n",
       "  </tbody>\n",
       "</table>\n",
       "</div>"
      ],
      "text/plain": [
       "                 marca                                        descripcion  \\\n",
       "0      Elizabeth Arden                Visible Difference Crema Hidratante   \n",
       "1              Kiehl's   Ultra Facial Oil-Free Gel Cream Crema Hidratante   \n",
       "2             Clinique   Moisture Surge Crema Hidratante con Color SPF 25   \n",
       "3              Origins  Ginzing SPF 40 Energy-Boosting Tinted Moisturizer   \n",
       "4              Clarins     Multi-Intensiva Crema de Día Todo Tipo de Piel   \n",
       "5      Elizabeth Arden                   8 Hour Cream Hidratante de Noche   \n",
       "6             Clinique   Clinique For Men Maximum Hydrator Gel Hidratante   \n",
       "7              Clarins                Rose Radiance Crema Multi-Intensiva   \n",
       "8                 Dior  DIOR HYDRA LIFE Crème Sorbet Intense Crema Hid...   \n",
       "9                 Dior  DIOR HYDRA LIFE Crème Sorbet Fraîcheur Crema H...   \n",
       "10  Yves Saint Laurent        Pure Shots Perfect Plumper Crema Hidratante   \n",
       "11             Origins  High-Potency Night a Mins Cream Hidratante y P...   \n",
       "12             Origins                  Ginzing Gel Hidratante Iluminador   \n",
       "13        BareMinerals  Skinlongevity Phyto-Vitamin Crema Hidratante I...   \n",
       "\n",
       "    calificacion total_calificadores  precio               categoria  \\\n",
       "0   --stars:4.69                (77)   52.00  Hidratantes y Nutrivas   \n",
       "1   --stars:4.82                (51)   22.00  Hidratantes y Nutrivas   \n",
       "2   --stars:5.00                 (4)   39.00  Hidratantes y Nutrivas   \n",
       "3   --stars:4.75                 (4)   44.00  Hidratantes y Nutrivas   \n",
       "4   --stars:4.88                (48)  130.00  Hidratantes y Nutrivas   \n",
       "5   --stars:3.67                 (6)   49.00  Hidratantes y Nutrivas   \n",
       "6   --stars:5.00                 (1)   51.00  Hidratantes y Nutrivas   \n",
       "7   --stars:4.33                 (6)  130.00  Hidratantes y Nutrivas   \n",
       "8   --stars:5.00                 (1)   75.10  Hidratantes y Nutrivas   \n",
       "9   --stars:5.00                 (2)   75.10  Hidratantes y Nutrivas   \n",
       "10          None                None  110.00  Hidratantes y Nutrivas   \n",
       "11          None                None   53.00  Hidratantes y Nutrivas   \n",
       "12  --stars:5.00                 (3)   39.00  Hidratantes y Nutrivas   \n",
       "13  --stars:5.00                 (1)   56.00  Hidratantes y Nutrivas   \n",
       "\n",
       "   tipo_piel zona_aplicacion  \n",
       "0     Normal          Rostro  \n",
       "1     Normal          Rostro  \n",
       "2     Normal          Rostro  \n",
       "3     Normal          Rostro  \n",
       "4     Normal          Rostro  \n",
       "5     Normal          Rostro  \n",
       "6     Normal          Rostro  \n",
       "7     Normal          Rostro  \n",
       "8     Normal          Rostro  \n",
       "9     Normal          Rostro  \n",
       "10    Normal          Rostro  \n",
       "11    Normal          Rostro  \n",
       "12    Normal          Rostro  \n",
       "13    Normal          Rostro  "
      ]
     },
     "execution_count": 31,
     "metadata": {},
     "output_type": "execute_result"
    }
   ],
   "source": [
    "\n",
    "# df_primor = sraping_webSite(categorias, tipos_de_piel, zonas_aplicacion, data_csv)\n",
    "# df_primor"
   ]
  },
  {
   "cell_type": "markdown",
   "id": "ef2a654c",
   "metadata": {},
   "source": [
    "### 3. Importando la Data obtenida"
   ]
  },
  {
   "cell_type": "code",
   "execution_count": null,
   "id": "49a7299f",
   "metadata": {},
   "outputs": [
    {
     "data": {
      "text/html": [
       "<div>\n",
       "<style scoped>\n",
       "    .dataframe tbody tr th:only-of-type {\n",
       "        vertical-align: middle;\n",
       "    }\n",
       "\n",
       "    .dataframe tbody tr th {\n",
       "        vertical-align: top;\n",
       "    }\n",
       "\n",
       "    .dataframe thead th {\n",
       "        text-align: right;\n",
       "    }\n",
       "</style>\n",
       "<table border=\"1\" class=\"dataframe\">\n",
       "  <thead>\n",
       "    <tr style=\"text-align: right;\">\n",
       "      <th></th>\n",
       "      <th>marca</th>\n",
       "      <th>descripcion</th>\n",
       "      <th>calificacion</th>\n",
       "      <th>total_calificadores</th>\n",
       "      <th>precio</th>\n",
       "      <th>categoria</th>\n",
       "      <th>tipo_piel</th>\n",
       "      <th>zona_aplicacion</th>\n",
       "    </tr>\n",
       "  </thead>\n",
       "  <tbody>\n",
       "    <tr>\n",
       "      <th>0</th>\n",
       "      <td>Anne Moller</td>\n",
       "      <td>Rosâge Hyaluronic Acid Gel Concentrado</td>\n",
       "      <td>--stars:4.75</td>\n",
       "      <td>(4)</td>\n",
       "      <td>41.00</td>\n",
       "      <td>Antiarrugas y antiedad</td>\n",
       "      <td>Sensible</td>\n",
       "      <td>Rostro</td>\n",
       "    </tr>\n",
       "    <tr>\n",
       "      <th>1</th>\n",
       "      <td>Kiehl's</td>\n",
       "      <td>Micro-Dose Anti-Aging Retinol Serum with Ceram...</td>\n",
       "      <td>--stars:4.78</td>\n",
       "      <td>(127)</td>\n",
       "      <td>57.00</td>\n",
       "      <td>Antiarrugas y antiedad</td>\n",
       "      <td>Sensible</td>\n",
       "      <td>Rostro</td>\n",
       "    </tr>\n",
       "    <tr>\n",
       "      <th>2</th>\n",
       "      <td>It Cosmetics</td>\n",
       "      <td>Confidence Crema Antiedad Hidratante</td>\n",
       "      <td>--stars:5.00</td>\n",
       "      <td>(1462)</td>\n",
       "      <td>65.00</td>\n",
       "      <td>Antiarrugas y antiedad</td>\n",
       "      <td>Sensible</td>\n",
       "      <td>Rostro</td>\n",
       "    </tr>\n",
       "    <tr>\n",
       "      <th>3</th>\n",
       "      <td>Kiehl's</td>\n",
       "      <td>Super Multi-Corrective Cream Crema Reafirmante...</td>\n",
       "      <td>--stars:4.95</td>\n",
       "      <td>(75)</td>\n",
       "      <td>80.00</td>\n",
       "      <td>Antiarrugas y antiedad</td>\n",
       "      <td>Sensible</td>\n",
       "      <td>Rostro</td>\n",
       "    </tr>\n",
       "    <tr>\n",
       "      <th>4</th>\n",
       "      <td>Lancôme</td>\n",
       "      <td>Nutrix Royal Crema Nutritiva</td>\n",
       "      <td>--stars:5.00</td>\n",
       "      <td>(6)</td>\n",
       "      <td>77.00</td>\n",
       "      <td>Antiarrugas y antiedad</td>\n",
       "      <td>Sensible</td>\n",
       "      <td>Rostro</td>\n",
       "    </tr>\n",
       "  </tbody>\n",
       "</table>\n",
       "</div>"
      ],
      "text/plain": [
       "          marca                                        descripcion  \\\n",
       "0   Anne Moller             Rosâge Hyaluronic Acid Gel Concentrado   \n",
       "1       Kiehl's  Micro-Dose Anti-Aging Retinol Serum with Ceram...   \n",
       "2  It Cosmetics               Confidence Crema Antiedad Hidratante   \n",
       "3       Kiehl's  Super Multi-Corrective Cream Crema Reafirmante...   \n",
       "4       Lancôme                       Nutrix Royal Crema Nutritiva   \n",
       "\n",
       "   calificacion total_calificadores precio               categoria tipo_piel  \\\n",
       "0  --stars:4.75                 (4)  41.00  Antiarrugas y antiedad  Sensible   \n",
       "1  --stars:4.78               (127)  57.00  Antiarrugas y antiedad  Sensible   \n",
       "2  --stars:5.00              (1462)  65.00  Antiarrugas y antiedad  Sensible   \n",
       "3  --stars:4.95                (75)  80.00  Antiarrugas y antiedad  Sensible   \n",
       "4  --stars:5.00                 (6)  77.00  Antiarrugas y antiedad  Sensible   \n",
       "\n",
       "  zona_aplicacion  \n",
       "0          Rostro  \n",
       "1          Rostro  \n",
       "2          Rostro  \n",
       "3          Rostro  \n",
       "4          Rostro  "
      ]
     },
     "execution_count": 23,
     "metadata": {},
     "output_type": "execute_result"
    }
   ],
   "source": [
    "# Cargar el archivo CSV en un DataFrame\n",
    "df_cosmeticos = pd.read_csv(data_csv, sep=\",\", encoding=\"utf-8\")\n",
    "\n",
    "\n",
    "# Mostrar las primeras filas del DataFrame\n",
    "df_cosmeticos.head(5)"
   ]
  },
  {
   "cell_type": "markdown",
   "id": "1b151c55",
   "metadata": {},
   "source": [
    "## 4. Limpieza de Datos"
   ]
  },
  {
   "cell_type": "code",
   "execution_count": 24,
   "id": "7237865e",
   "metadata": {},
   "outputs": [],
   "source": [
    "def limpieza_datos(df_cosmeticos):\n",
    "    # Mostrar información del DataFrame antes de la limpieza\n",
    "    print(\"------------------------------------------------------\")\n",
    "    print(\"Información del DataFrame antes de la limpieza:\")\n",
    "    print(\"------------------------------------------------------\")\n",
    "    df_cosmeticos.info()\n",
    "    \n",
    "    # Nos aseguramos de trabajar sobre una copia del dataframe original\n",
    "    df_cosmeticos = df_cosmeticos.copy()\n",
    "    \n",
    "    # Eliminar filas donde 'calificacion' o 'total_calificadores' son nulos:\n",
    "    df_cosmeticos = df_cosmeticos.dropna(subset=['calificacion', 'total_calificadores'])\n",
    "\n",
    "    # Convertir la columna \"precio\" a tipo numérico\n",
    "    df_cosmeticos[\"precio\"] = pd.to_numeric(df_cosmeticos[\"precio\"], errors=\"coerce\")\n",
    "    \n",
    "    # Eliminar filas con valores nulos en la columna \"precio\"\n",
    "    df_cosmeticos.dropna(subset=[\"precio\"])\n",
    "    \n",
    "    # Limpiando la columna 'calificacion'\n",
    "    df_cosmeticos['calificacion'] = df_cosmeticos['calificacion'].str.replace(r'^--stars:', '', regex=True).astype(float)\n",
    "\n",
    "    # Limpiando la columna 'total_calificadores'\n",
    "    df_cosmeticos['total_calificadores'] = df_cosmeticos['total_calificadores'].str.replace(r'[()]', '', regex=True)\n",
    "    \n",
    "    # Verificar el resultado\n",
    "    print(\"------------------------------------------------------\")\n",
    "    print(\"Información del DataFrame después de la limpieza:\")\n",
    "    print(\"------------------------------------------------------\")\n",
    "    df_cosmeticos.info()\n",
    "    \n",
    "    return df_cosmeticos\n",
    "    "
   ]
  },
  {
   "cell_type": "code",
   "execution_count": 25,
   "id": "3dcf2956",
   "metadata": {},
   "outputs": [
    {
     "name": "stdout",
     "output_type": "stream",
     "text": [
      "------------------------------------------------------\n",
      "Información del DataFrame antes de la limpieza:\n",
      "------------------------------------------------------\n",
      "<class 'pandas.core.frame.DataFrame'>\n",
      "RangeIndex: 1104 entries, 0 to 1103\n",
      "Data columns (total 8 columns):\n",
      " #   Column               Non-Null Count  Dtype \n",
      "---  ------               --------------  ----- \n",
      " 0   marca                1104 non-null   object\n",
      " 1   descripcion          1104 non-null   object\n",
      " 2   calificacion         686 non-null    object\n",
      " 3   total_calificadores  686 non-null    object\n",
      " 4   precio               1104 non-null   object\n",
      " 5   categoria            1104 non-null   object\n",
      " 6   tipo_piel            1104 non-null   object\n",
      " 7   zona_aplicacion      1104 non-null   object\n",
      "dtypes: object(8)\n",
      "memory usage: 69.1+ KB\n",
      "------------------------------------------------------\n",
      "Información del DataFrame después de la limpieza:\n",
      "------------------------------------------------------\n",
      "<class 'pandas.core.frame.DataFrame'>\n",
      "Index: 686 entries, 0 to 1103\n",
      "Data columns (total 8 columns):\n",
      " #   Column               Non-Null Count  Dtype  \n",
      "---  ------               --------------  -----  \n",
      " 0   marca                686 non-null    object \n",
      " 1   descripcion          686 non-null    object \n",
      " 2   calificacion         686 non-null    float64\n",
      " 3   total_calificadores  686 non-null    object \n",
      " 4   precio               686 non-null    float64\n",
      " 5   categoria            686 non-null    object \n",
      " 6   tipo_piel            686 non-null    object \n",
      " 7   zona_aplicacion      686 non-null    object \n",
      "dtypes: float64(2), object(6)\n",
      "memory usage: 48.2+ KB\n"
     ]
    },
    {
     "data": {
      "text/html": [
       "<div>\n",
       "<style scoped>\n",
       "    .dataframe tbody tr th:only-of-type {\n",
       "        vertical-align: middle;\n",
       "    }\n",
       "\n",
       "    .dataframe tbody tr th {\n",
       "        vertical-align: top;\n",
       "    }\n",
       "\n",
       "    .dataframe thead th {\n",
       "        text-align: right;\n",
       "    }\n",
       "</style>\n",
       "<table border=\"1\" class=\"dataframe\">\n",
       "  <thead>\n",
       "    <tr style=\"text-align: right;\">\n",
       "      <th></th>\n",
       "      <th>marca</th>\n",
       "      <th>descripcion</th>\n",
       "      <th>calificacion</th>\n",
       "      <th>total_calificadores</th>\n",
       "      <th>precio</th>\n",
       "      <th>categoria</th>\n",
       "      <th>tipo_piel</th>\n",
       "      <th>zona_aplicacion</th>\n",
       "    </tr>\n",
       "  </thead>\n",
       "  <tbody>\n",
       "    <tr>\n",
       "      <th>0</th>\n",
       "      <td>Anne Moller</td>\n",
       "      <td>Rosâge Hyaluronic Acid Gel Concentrado</td>\n",
       "      <td>4.75</td>\n",
       "      <td>4</td>\n",
       "      <td>41.0</td>\n",
       "      <td>Antiarrugas y antiedad</td>\n",
       "      <td>Sensible</td>\n",
       "      <td>Rostro</td>\n",
       "    </tr>\n",
       "    <tr>\n",
       "      <th>1</th>\n",
       "      <td>Kiehl's</td>\n",
       "      <td>Micro-Dose Anti-Aging Retinol Serum with Ceram...</td>\n",
       "      <td>4.78</td>\n",
       "      <td>127</td>\n",
       "      <td>57.0</td>\n",
       "      <td>Antiarrugas y antiedad</td>\n",
       "      <td>Sensible</td>\n",
       "      <td>Rostro</td>\n",
       "    </tr>\n",
       "    <tr>\n",
       "      <th>2</th>\n",
       "      <td>It Cosmetics</td>\n",
       "      <td>Confidence Crema Antiedad Hidratante</td>\n",
       "      <td>5.00</td>\n",
       "      <td>1462</td>\n",
       "      <td>65.0</td>\n",
       "      <td>Antiarrugas y antiedad</td>\n",
       "      <td>Sensible</td>\n",
       "      <td>Rostro</td>\n",
       "    </tr>\n",
       "    <tr>\n",
       "      <th>3</th>\n",
       "      <td>Kiehl's</td>\n",
       "      <td>Super Multi-Corrective Cream Crema Reafirmante...</td>\n",
       "      <td>4.95</td>\n",
       "      <td>75</td>\n",
       "      <td>80.0</td>\n",
       "      <td>Antiarrugas y antiedad</td>\n",
       "      <td>Sensible</td>\n",
       "      <td>Rostro</td>\n",
       "    </tr>\n",
       "    <tr>\n",
       "      <th>4</th>\n",
       "      <td>Lancôme</td>\n",
       "      <td>Nutrix Royal Crema Nutritiva</td>\n",
       "      <td>5.00</td>\n",
       "      <td>6</td>\n",
       "      <td>77.0</td>\n",
       "      <td>Antiarrugas y antiedad</td>\n",
       "      <td>Sensible</td>\n",
       "      <td>Rostro</td>\n",
       "    </tr>\n",
       "  </tbody>\n",
       "</table>\n",
       "</div>"
      ],
      "text/plain": [
       "          marca                                        descripcion  \\\n",
       "0   Anne Moller             Rosâge Hyaluronic Acid Gel Concentrado   \n",
       "1       Kiehl's  Micro-Dose Anti-Aging Retinol Serum with Ceram...   \n",
       "2  It Cosmetics               Confidence Crema Antiedad Hidratante   \n",
       "3       Kiehl's  Super Multi-Corrective Cream Crema Reafirmante...   \n",
       "4       Lancôme                       Nutrix Royal Crema Nutritiva   \n",
       "\n",
       "   calificacion total_calificadores  precio               categoria tipo_piel  \\\n",
       "0          4.75                   4    41.0  Antiarrugas y antiedad  Sensible   \n",
       "1          4.78                 127    57.0  Antiarrugas y antiedad  Sensible   \n",
       "2          5.00                1462    65.0  Antiarrugas y antiedad  Sensible   \n",
       "3          4.95                  75    80.0  Antiarrugas y antiedad  Sensible   \n",
       "4          5.00                   6    77.0  Antiarrugas y antiedad  Sensible   \n",
       "\n",
       "  zona_aplicacion  \n",
       "0          Rostro  \n",
       "1          Rostro  \n",
       "2          Rostro  \n",
       "3          Rostro  \n",
       "4          Rostro  "
      ]
     },
     "execution_count": 25,
     "metadata": {},
     "output_type": "execute_result"
    }
   ],
   "source": [
    "df_cosmeticos = limpieza_datos(df_cosmeticos)\n",
    "df_cosmeticos.head(5)"
   ]
  },
  {
   "cell_type": "markdown",
   "id": "aadbd283",
   "metadata": {},
   "source": [
    "## 5. Transformando los datos :"
   ]
  },
  {
   "cell_type": "code",
   "execution_count": 11,
   "id": "fb0573a3",
   "metadata": {},
   "outputs": [
    {
     "data": {
      "text/html": [
       "<div>\n",
       "<style scoped>\n",
       "    .dataframe tbody tr th:only-of-type {\n",
       "        vertical-align: middle;\n",
       "    }\n",
       "\n",
       "    .dataframe tbody tr th {\n",
       "        vertical-align: top;\n",
       "    }\n",
       "\n",
       "    .dataframe thead th {\n",
       "        text-align: right;\n",
       "    }\n",
       "</style>\n",
       "<table border=\"1\" class=\"dataframe\">\n",
       "  <thead>\n",
       "    <tr style=\"text-align: right;\">\n",
       "      <th></th>\n",
       "      <th>Marca</th>\n",
       "      <th>Descripcion</th>\n",
       "      <th>Calificacion</th>\n",
       "      <th>Total_calificadores</th>\n",
       "      <th>Precio_Euros</th>\n",
       "      <th>Categoria</th>\n",
       "      <th>Tipo_piel</th>\n",
       "      <th>Zona_aplicacion</th>\n",
       "    </tr>\n",
       "  </thead>\n",
       "  <tbody>\n",
       "    <tr>\n",
       "      <th>0</th>\n",
       "      <td>Anne Moller</td>\n",
       "      <td>Rosâge Hyaluronic Acid Gel Concentrado</td>\n",
       "      <td>4.75</td>\n",
       "      <td>4</td>\n",
       "      <td>41.0</td>\n",
       "      <td>Antiarrugas y antiedad</td>\n",
       "      <td>Sensible</td>\n",
       "      <td>Rostro</td>\n",
       "    </tr>\n",
       "    <tr>\n",
       "      <th>1</th>\n",
       "      <td>Kiehl's</td>\n",
       "      <td>Micro-Dose Anti-Aging Retinol Serum with Ceram...</td>\n",
       "      <td>4.78</td>\n",
       "      <td>127</td>\n",
       "      <td>57.0</td>\n",
       "      <td>Antiarrugas y antiedad</td>\n",
       "      <td>Sensible</td>\n",
       "      <td>Rostro</td>\n",
       "    </tr>\n",
       "    <tr>\n",
       "      <th>2</th>\n",
       "      <td>It Cosmetics</td>\n",
       "      <td>Confidence Crema Antiedad Hidratante</td>\n",
       "      <td>5.00</td>\n",
       "      <td>1462</td>\n",
       "      <td>65.0</td>\n",
       "      <td>Antiarrugas y antiedad</td>\n",
       "      <td>Sensible</td>\n",
       "      <td>Rostro</td>\n",
       "    </tr>\n",
       "    <tr>\n",
       "      <th>3</th>\n",
       "      <td>Kiehl's</td>\n",
       "      <td>Super Multi-Corrective Cream Crema Reafirmante...</td>\n",
       "      <td>4.95</td>\n",
       "      <td>75</td>\n",
       "      <td>80.0</td>\n",
       "      <td>Antiarrugas y antiedad</td>\n",
       "      <td>Sensible</td>\n",
       "      <td>Rostro</td>\n",
       "    </tr>\n",
       "    <tr>\n",
       "      <th>4</th>\n",
       "      <td>Lancôme</td>\n",
       "      <td>Nutrix Royal Crema Nutritiva</td>\n",
       "      <td>5.00</td>\n",
       "      <td>6</td>\n",
       "      <td>77.0</td>\n",
       "      <td>Antiarrugas y antiedad</td>\n",
       "      <td>Sensible</td>\n",
       "      <td>Rostro</td>\n",
       "    </tr>\n",
       "  </tbody>\n",
       "</table>\n",
       "</div>"
      ],
      "text/plain": [
       "          Marca                                        Descripcion  \\\n",
       "0   Anne Moller             Rosâge Hyaluronic Acid Gel Concentrado   \n",
       "1       Kiehl's  Micro-Dose Anti-Aging Retinol Serum with Ceram...   \n",
       "2  It Cosmetics               Confidence Crema Antiedad Hidratante   \n",
       "3       Kiehl's  Super Multi-Corrective Cream Crema Reafirmante...   \n",
       "4       Lancôme                       Nutrix Royal Crema Nutritiva   \n",
       "\n",
       "   Calificacion Total_calificadores  Precio_Euros               Categoria  \\\n",
       "0          4.75                   4          41.0  Antiarrugas y antiedad   \n",
       "1          4.78                 127          57.0  Antiarrugas y antiedad   \n",
       "2          5.00                1462          65.0  Antiarrugas y antiedad   \n",
       "3          4.95                  75          80.0  Antiarrugas y antiedad   \n",
       "4          5.00                   6          77.0  Antiarrugas y antiedad   \n",
       "\n",
       "  Tipo_piel Zona_aplicacion  \n",
       "0  Sensible          Rostro  \n",
       "1  Sensible          Rostro  \n",
       "2  Sensible          Rostro  \n",
       "3  Sensible          Rostro  \n",
       "4  Sensible          Rostro  "
      ]
     },
     "execution_count": 11,
     "metadata": {},
     "output_type": "execute_result"
    }
   ],
   "source": [
    "# Capitalizar la primera letra de los nombres de las columnas\n",
    "df_cosmeticos.columns = df_cosmeticos.columns.str.capitalize()\n",
    "\n",
    "# renombrando la columna 'Precio' a 'Precio (€)'\n",
    "df_cosmeticos = df_cosmeticos.rename(columns={'Precio': 'Precio_Euros'})\n",
    "\n",
    "# Asegurar que los valores se mantengan como números.\n",
    "df_cosmeticos['Precio_Euros'] = df_cosmeticos['Precio_Euros'].astype(float)\n",
    "df_cosmeticos.head(5)"
   ]
  },
  {
   "cell_type": "code",
   "execution_count": 12,
   "id": "7079931f",
   "metadata": {},
   "outputs": [
    {
     "name": "stdout",
     "output_type": "stream",
     "text": [
      "<class 'pandas.core.frame.DataFrame'>\n",
      "Index: 686 entries, 0 to 1103\n",
      "Data columns (total 8 columns):\n",
      " #   Column               Non-Null Count  Dtype  \n",
      "---  ------               --------------  -----  \n",
      " 0   Marca                686 non-null    object \n",
      " 1   Descripcion          686 non-null    object \n",
      " 2   Calificacion         686 non-null    float64\n",
      " 3   Total_calificadores  686 non-null    int64  \n",
      " 4   Precio_Euros         686 non-null    float64\n",
      " 5   Categoria            686 non-null    object \n",
      " 6   Tipo_piel            686 non-null    object \n",
      " 7   Zona_aplicacion      686 non-null    object \n",
      "dtypes: float64(2), int64(1), object(5)\n",
      "memory usage: 48.2+ KB\n"
     ]
    }
   ],
   "source": [
    "# Convirtiendo las columnas a los tipos de datos adecuados\n",
    "df_cosmeticos['Calificacion'] = df_cosmeticos['Calificacion'].astype(float)\n",
    "df_cosmeticos['Precio_Euros'] = df_cosmeticos['Precio_Euros'].astype(float)\n",
    "df_cosmeticos['Total_calificadores'] = df_cosmeticos['Total_calificadores'].astype(int)\n",
    "df_cosmeticos.info()"
   ]
  },
  {
   "cell_type": "markdown",
   "id": "3eda5c38",
   "metadata": {},
   "source": [
    "## 6. Análisis Estadístico de los Datos (EDA)"
   ]
  },
  {
   "cell_type": "code",
   "execution_count": 13,
   "id": "237dea64",
   "metadata": {},
   "outputs": [
    {
     "data": {
      "text/html": [
       "<div>\n",
       "<style scoped>\n",
       "    .dataframe tbody tr th:only-of-type {\n",
       "        vertical-align: middle;\n",
       "    }\n",
       "\n",
       "    .dataframe tbody tr th {\n",
       "        vertical-align: top;\n",
       "    }\n",
       "\n",
       "    .dataframe thead th {\n",
       "        text-align: right;\n",
       "    }\n",
       "</style>\n",
       "<table border=\"1\" class=\"dataframe\">\n",
       "  <thead>\n",
       "    <tr style=\"text-align: right;\">\n",
       "      <th></th>\n",
       "      <th>Calificacion</th>\n",
       "      <th>Total_calificadores</th>\n",
       "      <th>Precio_Euros</th>\n",
       "    </tr>\n",
       "  </thead>\n",
       "  <tbody>\n",
       "    <tr>\n",
       "      <th>count</th>\n",
       "      <td>686.000000</td>\n",
       "      <td>686.000000</td>\n",
       "      <td>686.000000</td>\n",
       "    </tr>\n",
       "    <tr>\n",
       "      <th>mean</th>\n",
       "      <td>4.726458</td>\n",
       "      <td>24.227405</td>\n",
       "      <td>100.372055</td>\n",
       "    </tr>\n",
       "    <tr>\n",
       "      <th>std</th>\n",
       "      <td>0.450243</td>\n",
       "      <td>121.014534</td>\n",
       "      <td>89.336825</td>\n",
       "    </tr>\n",
       "    <tr>\n",
       "      <th>min</th>\n",
       "      <td>1.000000</td>\n",
       "      <td>1.000000</td>\n",
       "      <td>11.000000</td>\n",
       "    </tr>\n",
       "    <tr>\n",
       "      <th>25%</th>\n",
       "      <td>4.650000</td>\n",
       "      <td>2.000000</td>\n",
       "      <td>46.000000</td>\n",
       "    </tr>\n",
       "    <tr>\n",
       "      <th>50%</th>\n",
       "      <td>4.880000</td>\n",
       "      <td>4.000000</td>\n",
       "      <td>69.100000</td>\n",
       "    </tr>\n",
       "    <tr>\n",
       "      <th>75%</th>\n",
       "      <td>5.000000</td>\n",
       "      <td>10.000000</td>\n",
       "      <td>130.000000</td>\n",
       "    </tr>\n",
       "    <tr>\n",
       "      <th>max</th>\n",
       "      <td>5.000000</td>\n",
       "      <td>1462.000000</td>\n",
       "      <td>509.000000</td>\n",
       "    </tr>\n",
       "  </tbody>\n",
       "</table>\n",
       "</div>"
      ],
      "text/plain": [
       "       Calificacion  Total_calificadores  Precio_Euros\n",
       "count    686.000000           686.000000    686.000000\n",
       "mean       4.726458            24.227405    100.372055\n",
       "std        0.450243           121.014534     89.336825\n",
       "min        1.000000             1.000000     11.000000\n",
       "25%        4.650000             2.000000     46.000000\n",
       "50%        4.880000             4.000000     69.100000\n",
       "75%        5.000000            10.000000    130.000000\n",
       "max        5.000000          1462.000000    509.000000"
      ]
     },
     "execution_count": 13,
     "metadata": {},
     "output_type": "execute_result"
    }
   ],
   "source": [
    "df_cosmeticos.describe()"
   ]
  },
  {
   "cell_type": "code",
   "execution_count": 14,
   "id": "6b48ef34",
   "metadata": {},
   "outputs": [
    {
     "data": {
      "image/png": "[encoded data removed]",
      "text/plain": [
       "<Figure size 600x400 with 1 Axes>"
      ]
     },
     "metadata": {},
     "output_type": "display_data"
    }
   ],
   "source": [
    "# Boxplot para la columna 'Calificacion'\n",
    "plt.figure(figsize=(6, 4))\n",
    "sns.boxplot(data=df_cosmeticos, y='Calificacion', color='skyblue')\n",
    "plt.title(\"Boxplot de Calificacion\", fontsize=14)\n",
    "plt.ylabel(\"Calificacion\", fontsize=12)\n",
    "plt.xlabel(\"\")\n",
    "plt.show()\n",
    "\n"
   ]
  },
  {
   "cell_type": "markdown",
   "id": "f07828fe",
   "metadata": {},
   "source": [
    "Como podemos observar la mayoría de las calificaciones se encuentran entre 4.5 y 5 estrellas"
   ]
  },
  {
   "cell_type": "code",
   "execution_count": 15,
   "id": "d89d9838",
   "metadata": {},
   "outputs": [
    {
     "data": {
      "image/png": "[encoded data removed]",
      "text/plain": [
       "<Figure size 600x400 with 1 Axes>"
      ]
     },
     "metadata": {},
     "output_type": "display_data"
    }
   ],
   "source": [
    "# Boxplot para la columna 'Total_calificadores'\n",
    "plt.figure(figsize=(6, 4))\n",
    "sns.boxplot(data=df_cosmeticos, y='Total_calificadores', color='lightgreen')\n",
    "plt.title(\"Boxplot de Total_calificadores\", fontsize=14)\n",
    "plt.ylabel(\"Total_calificadores\", fontsize=12)\n",
    "plt.xlabel(\"\")\n",
    "plt.show()\n",
    "\n"
   ]
  },
  {
   "cell_type": "code",
   "execution_count": 16,
   "id": "8a5dfded",
   "metadata": {},
   "outputs": [
    {
     "data": {
      "image/png": "[encoded data removed]",
      "text/plain": [
       "<Figure size 600x400 with 1 Axes>"
      ]
     },
     "metadata": {},
     "output_type": "display_data"
    }
   ],
   "source": [
    "# Boxplot para la columna 'Precio_Euros'\n",
    "plt.figure(figsize=(6, 4))\n",
    "sns.boxplot(data=df_cosmeticos, y='Precio_Euros', color='salmon')\n",
    "plt.title(\"Boxplot de Precio_Euros\", fontsize=14)\n",
    "plt.ylabel(\"Precio_Euros\", fontsize=12)\n",
    "plt.xlabel(\"\")\n",
    "plt.show()"
   ]
  },
  {
   "cell_type": "code",
   "execution_count": 17,
   "id": "374a621e",
   "metadata": {},
   "outputs": [
    {
     "data": {
      "image/png": "[encoded data removed]",
      "text/plain": [
       "<Figure size 1000x600 with 2 Axes>"
      ]
     },
     "metadata": {},
     "output_type": "display_data"
    }
   ],
   "source": [
    "# Generar el mapa de calor de correlación\n",
    "plt.figure(figsize=(10, 6))\n",
    "# Seleccionar solo las columnas numéricas para calcular la matriz de correlación\n",
    "correlacion = df_cosmeticos.select_dtypes(include=['float64', 'int64']).corr()\n",
    "sns.heatmap(correlacion, annot=True, cmap='coolwarm', fmt=\".2f\", linewidths=0.5)\n",
    "\n",
    "# Personalizar el título\n",
    "plt.title(\"Mapa de Calor de Correlación\", fontsize=16)\n",
    "plt.show()"
   ]
  },
  {
   "cell_type": "markdown",
   "id": "36402501",
   "metadata": {},
   "source": [
    "No existe correlación entre calificacion, Total_calificadores y Precio"
   ]
  },
  {
   "cell_type": "code",
   "execution_count": 18,
   "id": "ec7d6895",
   "metadata": {},
   "outputs": [
    {
     "data": {
      "application/vnd.plotly.v1+json": {
       "config": {
        "plotlyServerURL": "https://plot.ly"
       },
       "data": [
        {
         "alignmentgroup": "True",
         "hovertemplate": "Marca=%{x}<br>Frecuencia=%{y}<extra></extra>",
         "legendgroup": "",
         "marker": {
          "color": "purple",
          "pattern": {
           "shape": ""
          }
         },
         "name": "",
         "offsetgroup": "",
         "orientation": "v",
         "showlegend": false,
         "textposition": "outside",
         "type": "bar",
         "x": [
          "Clarins",
          "Clinique",
          "Shiseido",
          "Kiehl's",
          "Lancôme",
          "Elizabeth Arden",
          "Sensai",
          "BareMinerals",
          "Guerlain",
          "Biotherm"
         ],
         "xaxis": "x",
         "y": [
          103,
          52,
          49,
          47,
          44,
          43,
          41,
          33,
          33,
          32
         ],
         "yaxis": "y"
        }
       ],
       "layout": {
        "barmode": "relative",
        "legend": {
         "tracegroupgap": 0
        },
        "template": {
         "data": {
          "bar": [
           {
            "error_x": {
             "color": "#2a3f5f"
            },
            "error_y": {
             "color": "#2a3f5f"
            },
            "marker": {
             "line": {
              "color": "#E5ECF6",
              "width": 0.5
             },
             "pattern": {
              "fillmode": "overlay",
              "size": 10,
              "solidity": 0.2
             }
            },
            "type": "bar"
           }
          ],
          "barpolar": [
           {
            "marker": {
             "line": {
              "color": "#E5ECF6",
              "width": 0.5
             },
             "pattern": {
              "fillmode": "overlay",
              "size": 10,
              "solidity": 0.2
             }
            },
            "type": "barpolar"
           }
          ],
          "carpet": [
           {
            "aaxis": {
             "endlinecolor": "#2a3f5f",
             "gridcolor": "white",
             "linecolor": "white",
             "minorgridcolor": "white",
             "startlinecolor": "#2a3f5f"
            },
            "baxis": {
             "endlinecolor": "#2a3f5f",
             "gridcolor": "white",
             "linecolor": "white",
             "minorgridcolor": "white",
             "startlinecolor": "#2a3f5f"
            },
            "type": "carpet"
           }
          ],
          "choropleth": [
           {
            "colorbar": {
             "outlinewidth": 0,
             "ticks": ""
            },
            "type": "choropleth"
           }
          ],
          "contour": [
           {
            "colorbar": {
             "outlinewidth": 0,
             "ticks": ""
            },
            "colorscale": [
             [
              0,
              "#0d0887"
             ],
             [
              0.1111111111111111,
              "#46039f"
             ],
             [
              0.2222222222222222,
              "#7201a8"
             ],
             [
              0.3333333333333333,
              "#9c179e"
             ],
             [
              0.4444444444444444,
              "#bd3786"
             ],
             [
              0.5555555555555556,
              "#d8576b"
             ],
             [
              0.6666666666666666,
              "#ed7953"
             ],
             [
              0.7777777777777778,
              "#fb9f3a"
             ],
             [
              0.8888888888888888,
              "#fdca26"
             ],
             [
              1,
              "#f0f921"
             ]
            ],
            "type": "contour"
           }
          ],
          "contourcarpet": [
           {
            "colorbar": {
             "outlinewidth": 0,
             "ticks": ""
            },
            "type": "contourcarpet"
           }
          ],
          "heatmap": [
           {
            "colorbar": {
             "outlinewidth": 0,
             "ticks": ""
            },
            "colorscale": [
             [
              0,
              "#0d0887"
             ],
             [
              0.1111111111111111,
              "#46039f"
             ],
             [
              0.2222222222222222,
              "#7201a8"
             ],
             [
              0.3333333333333333,
              "#9c179e"
             ],
             [
              0.4444444444444444,
              "#bd3786"
             ],
             [
              0.5555555555555556,
              "#d8576b"
             ],
             [
              0.6666666666666666,
              "#ed7953"
             ],
             [
              0.7777777777777778,
              "#fb9f3a"
             ],
             [
              0.8888888888888888,
              "#fdca26"
             ],
             [
              1,
              "#f0f921"
             ]
            ],
            "type": "heatmap"
           }
          ],
          "heatmapgl": [
           {
            "colorbar": {
             "outlinewidth": 0,
             "ticks": ""
            },
            "colorscale": [
             [
              0,
              "#0d0887"
             ],
             [
              0.1111111111111111,
              "#46039f"
             ],
             [
              0.2222222222222222,
              "#7201a8"
             ],
             [
              0.3333333333333333,
              "#9c179e"
             ],
             [
              0.4444444444444444,
              "#bd3786"
             ],
             [
              0.5555555555555556,
              "#d8576b"
             ],
             [
              0.6666666666666666,
              "#ed7953"
             ],
             [
              0.7777777777777778,
              "#fb9f3a"
             ],
             [
              0.8888888888888888,
              "#fdca26"
             ],
             [
              1,
              "#f0f921"
             ]
            ],
            "type": "heatmapgl"
           }
          ],
          "histogram": [
           {
            "marker": {
             "pattern": {
              "fillmode": "overlay",
              "size": 10,
              "solidity": 0.2
             }
            },
            "type": "histogram"
           }
          ],
          "histogram2d": [
           {
            "colorbar": {
             "outlinewidth": 0,
             "ticks": ""
            },
            "colorscale": [
             [
              0,
              "#0d0887"
             ],
             [
              0.1111111111111111,
              "#46039f"
             ],
             [
              0.2222222222222222,
              "#7201a8"
             ],
             [
              0.3333333333333333,
              "#9c179e"
             ],
             [
              0.4444444444444444,
              "#bd3786"
             ],
             [
              0.5555555555555556,
              "#d8576b"
             ],
             [
              0.6666666666666666,
              "#ed7953"
             ],
             [
              0.7777777777777778,
              "#fb9f3a"
             ],
             [
              0.8888888888888888,
              "#fdca26"
             ],
             [
              1,
              "#f0f921"
             ]
            ],
            "type": "histogram2d"
           }
          ],
          "histogram2dcontour": [
           {
            "colorbar": {
             "outlinewidth": 0,
             "ticks": ""
            },
            "colorscale": [
             [
              0,
              "#0d0887"
             ],
             [
              0.1111111111111111,
              "#46039f"
             ],
             [
              0.2222222222222222,
              "#7201a8"
             ],
             [
              0.3333333333333333,
              "#9c179e"
             ],
             [
              0.4444444444444444,
              "#bd3786"
             ],
             [
              0.5555555555555556,
              "#d8576b"
             ],
             [
              0.6666666666666666,
              "#ed7953"
             ],
             [
              0.7777777777777778,
              "#fb9f3a"
             ],
             [
              0.8888888888888888,
              "#fdca26"
             ],
             [
              1,
              "#f0f921"
             ]
            ],
            "type": "histogram2dcontour"
           }
          ],
          "mesh3d": [
           {
            "colorbar": {
             "outlinewidth": 0,
             "ticks": ""
            },
            "type": "mesh3d"
           }
          ],
          "parcoords": [
           {
            "line": {
             "colorbar": {
              "outlinewidth": 0,
              "ticks": ""
             }
            },
            "type": "parcoords"
           }
          ],
          "pie": [
           {
            "automargin": true,
            "type": "pie"
           }
          ],
          "scatter": [
           {
            "fillpattern": {
             "fillmode": "overlay",
             "size": 10,
             "solidity": 0.2
            },
            "type": "scatter"
           }
          ],
          "scatter3d": [
           {
            "line": {
             "colorbar": {
              "outlinewidth": 0,
              "ticks": ""
             }
            },
            "marker": {
             "colorbar": {
              "outlinewidth": 0,
              "ticks": ""
             }
            },
            "type": "scatter3d"
           }
          ],
          "scattercarpet": [
           {
            "marker": {
             "colorbar": {
              "outlinewidth": 0,
              "ticks": ""
             }
            },
            "type": "scattercarpet"
           }
          ],
          "scattergeo": [
           {
            "marker": {
             "colorbar": {
              "outlinewidth": 0,
              "ticks": ""
             }
            },
            "type": "scattergeo"
           }
          ],
          "scattergl": [
           {
            "marker": {
             "colorbar": {
              "outlinewidth": 0,
              "ticks": ""
             }
            },
            "type": "scattergl"
           }
          ],
          "scattermapbox": [
           {
            "marker": {
             "colorbar": {
              "outlinewidth": 0,
              "ticks": ""
             }
            },
            "type": "scattermapbox"
           }
          ],
          "scatterpolar": [
           {
            "marker": {
             "colorbar": {
              "outlinewidth": 0,
              "ticks": ""
             }
            },
            "type": "scatterpolar"
           }
          ],
          "scatterpolargl": [
           {
            "marker": {
             "colorbar": {
              "outlinewidth": 0,
              "ticks": ""
             }
            },
            "type": "scatterpolargl"
           }
          ],
          "scatterternary": [
           {
            "marker": {
             "colorbar": {
              "outlinewidth": 0,
              "ticks": ""
             }
            },
            "type": "scatterternary"
           }
          ],
          "surface": [
           {
            "colorbar": {
             "outlinewidth": 0,
             "ticks": ""
            },
            "colorscale": [
             [
              0,
              "#0d0887"
             ],
             [
              0.1111111111111111,
              "#46039f"
             ],
             [
              0.2222222222222222,
              "#7201a8"
             ],
             [
              0.3333333333333333,
              "#9c179e"
             ],
             [
              0.4444444444444444,
              "#bd3786"
             ],
             [
              0.5555555555555556,
              "#d8576b"
             ],
             [
              0.6666666666666666,
              "#ed7953"
             ],
             [
              0.7777777777777778,
              "#fb9f3a"
             ],
             [
              0.8888888888888888,
              "#fdca26"
             ],
             [
              1,
              "#f0f921"
             ]
            ],
            "type": "surface"
           }
          ],
          "table": [
           {
            "cells": {
             "fill": {
              "color": "#EBF0F8"
             },
             "line": {
              "color": "white"
             }
            },
            "header": {
             "fill": {
              "color": "#C8D4E3"
             },
             "line": {
              "color": "white"
             }
            },
            "type": "table"
           }
          ]
         },
         "layout": {
          "annotationdefaults": {
           "arrowcolor": "#2a3f5f",
           "arrowhead": 0,
           "arrowwidth": 1
          },
          "autotypenumbers": "strict",
          "coloraxis": {
           "colorbar": {
            "outlinewidth": 0,
            "ticks": ""
           }
          },
          "colorscale": {
           "diverging": [
            [
             0,
             "#8e0152"
            ],
            [
             0.1,
             "#c51b7d"
            ],
            [
             0.2,
             "#de77ae"
            ],
            [
             0.3,
             "#f1b6da"
            ],
            [
             0.4,
             "#fde0ef"
            ],
            [
             0.5,
             "#f7f7f7"
            ],
            [
             0.6,
             "#e6f5d0"
            ],
            [
             0.7,
             "#b8e186"
            ],
            [
             0.8,
             "#7fbc41"
            ],
            [
             0.9,
             "#4d9221"
            ],
            [
             1,
             "#276419"
            ]
           ],
           "sequential": [
            [
             0,
             "#0d0887"
            ],
            [
             0.1111111111111111,
             "#46039f"
            ],
            [
             0.2222222222222222,
             "#7201a8"
            ],
            [
             0.3333333333333333,
             "#9c179e"
            ],
            [
             0.4444444444444444,
             "#bd3786"
            ],
            [
             0.5555555555555556,
             "#d8576b"
            ],
            [
             0.6666666666666666,
             "#ed7953"
            ],
            [
             0.7777777777777778,
             "#fb9f3a"
            ],
            [
             0.8888888888888888,
             "#fdca26"
            ],
            [
             1,
             "#f0f921"
            ]
           ],
           "sequentialminus": [
            [
             0,
             "#0d0887"
            ],
            [
             0.1111111111111111,
             "#46039f"
            ],
            [
             0.2222222222222222,
             "#7201a8"
            ],
            [
             0.3333333333333333,
             "#9c179e"
            ],
            [
             0.4444444444444444,
             "#bd3786"
            ],
            [
             0.5555555555555556,
             "#d8576b"
            ],
            [
             0.6666666666666666,
             "#ed7953"
            ],
            [
             0.7777777777777778,
             "#fb9f3a"
            ],
            [
             0.8888888888888888,
             "#fdca26"
            ],
            [
             1,
             "#f0f921"
            ]
           ]
          },
          "colorway": [
           "#636efa",
           "#EF553B",
           "#00cc96",
           "#ab63fa",
           "#FFA15A",
           "#19d3f3",
           "#FF6692",
           "#B6E880",
           "#FF97FF",
           "#FECB52"
          ],
          "font": {
           "color": "#2a3f5f"
          },
          "geo": {
           "bgcolor": "white",
           "lakecolor": "white",
           "landcolor": "#E5ECF6",
           "showlakes": true,
           "showland": true,
           "subunitcolor": "white"
          },
          "hoverlabel": {
           "align": "left"
          },
          "hovermode": "closest",
          "mapbox": {
           "style": "light"
          },
          "paper_bgcolor": "white",
          "plot_bgcolor": "#E5ECF6",
          "polar": {
           "angularaxis": {
            "gridcolor": "white",
            "linecolor": "white",
            "ticks": ""
           },
           "bgcolor": "#E5ECF6",
           "radialaxis": {
            "gridcolor": "white",
            "linecolor": "white",
            "ticks": ""
           }
          },
          "scene": {
           "xaxis": {
            "backgroundcolor": "#E5ECF6",
            "gridcolor": "white",
            "gridwidth": 2,
            "linecolor": "white",
            "showbackground": true,
            "ticks": "",
            "zerolinecolor": "white"
           },
           "yaxis": {
            "backgroundcolor": "#E5ECF6",
            "gridcolor": "white",
            "gridwidth": 2,
            "linecolor": "white",
            "showbackground": true,
            "ticks": "",
            "zerolinecolor": "white"
           },
           "zaxis": {
            "backgroundcolor": "#E5ECF6",
            "gridcolor": "white",
            "gridwidth": 2,
            "linecolor": "white",
            "showbackground": true,
            "ticks": "",
            "zerolinecolor": "white"
           }
          },
          "shapedefaults": {
           "line": {
            "color": "#2a3f5f"
           }
          },
          "ternary": {
           "aaxis": {
            "gridcolor": "white",
            "linecolor": "white",
            "ticks": ""
           },
           "baxis": {
            "gridcolor": "white",
            "linecolor": "white",
            "ticks": ""
           },
           "bgcolor": "#E5ECF6",
           "caxis": {
            "gridcolor": "white",
            "linecolor": "white",
            "ticks": ""
           }
          },
          "title": {
           "x": 0.05
          },
          "xaxis": {
           "automargin": true,
           "gridcolor": "white",
           "linecolor": "white",
           "ticks": "",
           "title": {
            "standoff": 15
           },
           "zerolinecolor": "white",
           "zerolinewidth": 2
          },
          "yaxis": {
           "automargin": true,
           "gridcolor": "white",
           "linecolor": "white",
           "ticks": "",
           "title": {
            "standoff": 15
           },
           "zerolinecolor": "white",
           "zerolinewidth": 2
          }
         }
        },
        "title": {
         "font": {
          "size": 30
         },
         "text": "Top 10 Marcas Más Frecuentes"
        },
        "xaxis": {
         "anchor": "y",
         "domain": [
          0,
          1
         ],
         "tickangle": 45,
         "title": {
          "text": "Marca"
         }
        },
        "yaxis": {
         "anchor": "x",
         "domain": [
          0,
          1
         ],
         "title": {
          "text": "Frecuencia"
         }
        }
       }
      }
     },
     "metadata": {},
     "output_type": "display_data"
    }
   ],
   "source": [
    "import plotly.express as px\n",
    "\n",
    "# Obtener los datos de las 10 marcas más frecuentes\n",
    "top_marcas = df_cosmeticos['Marca'].value_counts().head(10).reset_index()\n",
    "top_marcas.columns = ['Marca', 'Frecuencia']\n",
    "\n",
    "# Crear el gráfico de barras interactivo\n",
    "fig = px.bar(\n",
    "    top_marcas,\n",
    "    x='Marca',\n",
    "    y='Frecuencia',\n",
    "    title=\"Top 10 Marcas Más Frecuentes\",\n",
    "    labels={'Frecuencia': 'Frecuencia', 'Marca': 'Marca'},\n",
    "    #text='Frecuencia'  # Mostrar los valores en las barras\n",
    ")\n",
    "\n",
    "# Personalizar el diseño\n",
    "fig.update_traces(textposition='outside', marker_color='purple')\n",
    "fig.update_layout(\n",
    "    xaxis_title=\"Marca\",\n",
    "    yaxis_title=\"Frecuencia\",\n",
    "    title_font_size=30,\n",
    "    xaxis_tickangle=45\n",
    ")\n",
    "\n",
    "# Mostrar el gráfico\n",
    "fig.show()"
   ]
  },
  {
   "cell_type": "markdown",
   "id": "f574dfaf",
   "metadata": {},
   "source": [
    "La marca Clarins aparece mas veces en el dataset, porque tiene varios productos que se adaptan a diferentes tipos de piel, zonas de aplicación y categorías de uso."
   ]
  },
  {
   "cell_type": "code",
   "execution_count": 28,
   "id": "d6ca0421",
   "metadata": {},
   "outputs": [
    {
     "data": {
      "application/vnd.plotly.v1+json": {
       "config": {
        "plotlyServerURL": "https://plot.ly"
       },
       "data": [
        {
         "domain": {
          "x": [
           0,
           1
          ],
          "y": [
           0,
           1
          ]
         },
         "hovertemplate": "%{label}: %{percent}",
         "labels": [
          "Todo tipo de piel",
          "Sensible",
          "seca",
          "Madura",
          "Normal",
          "Grasa",
          "Mixta",
          "Normal a seca",
          "Muy seca",
          "Mixta a Grasa",
          "seca-muy seca",
          "Delicadas",
          "Apagadas",
          "Deshidratada",
          "seca - mixta",
          "atopica"
         ],
         "legendgroup": "",
         "name": "",
         "showlegend": true,
         "textinfo": "none",
         "type": "pie",
         "values": [
          0.4708454810495627,
          0.141399416909621,
          0.09766763848396501,
          0.04956268221574344,
          0.048104956268221574,
          0.03935860058309038,
          0.03935860058309038,
          0.027696793002915453,
          0.021865889212827987,
          0.02040816326530612,
          0.01020408163265306,
          0.008746355685131196,
          0.008746355685131196,
          0.008746355685131196,
          0.004373177842565598,
          0.0029154518950437317
         ]
        }
       ],
       "layout": {
        "legend": {
         "tracegroupgap": 0
        },
        "piecolorway": [
         "rgb(102, 197, 204)",
         "rgb(246, 207, 113)",
         "rgb(248, 156, 116)",
         "rgb(220, 176, 242)",
         "rgb(135, 197, 95)",
         "rgb(158, 185, 243)",
         "rgb(254, 136, 177)",
         "rgb(201, 219, 116)",
         "rgb(139, 224, 164)",
         "rgb(180, 151, 231)",
         "rgb(179, 179, 179)"
        ],
        "template": {
         "data": {
          "bar": [
           {
            "error_x": {
             "color": "#2a3f5f"
            },
            "error_y": {
             "color": "#2a3f5f"
            },
            "marker": {
             "line": {
              "color": "#E5ECF6",
              "width": 0.5
             },
             "pattern": {
              "fillmode": "overlay",
              "size": 10,
              "solidity": 0.2
             }
            },
            "type": "bar"
           }
          ],
          "barpolar": [
           {
            "marker": {
             "line": {
              "color": "#E5ECF6",
              "width": 0.5
             },
             "pattern": {
              "fillmode": "overlay",
              "size": 10,
              "solidity": 0.2
             }
            },
            "type": "barpolar"
           }
          ],
          "carpet": [
           {
            "aaxis": {
             "endlinecolor": "#2a3f5f",
             "gridcolor": "white",
             "linecolor": "white",
             "minorgridcolor": "white",
             "startlinecolor": "#2a3f5f"
            },
            "baxis": {
             "endlinecolor": "#2a3f5f",
             "gridcolor": "white",
             "linecolor": "white",
             "minorgridcolor": "white",
             "startlinecolor": "#2a3f5f"
            },
            "type": "carpet"
           }
          ],
          "choropleth": [
           {
            "colorbar": {
             "outlinewidth": 0,
             "ticks": ""
            },
            "type": "choropleth"
           }
          ],
          "contour": [
           {
            "colorbar": {
             "outlinewidth": 0,
             "ticks": ""
            },
            "colorscale": [
             [
              0,
              "#0d0887"
             ],
             [
              0.1111111111111111,
              "#46039f"
             ],
             [
              0.2222222222222222,
              "#7201a8"
             ],
             [
              0.3333333333333333,
              "#9c179e"
             ],
             [
              0.4444444444444444,
              "#bd3786"
             ],
             [
              0.5555555555555556,
              "#d8576b"
             ],
             [
              0.6666666666666666,
              "#ed7953"
             ],
             [
              0.7777777777777778,
              "#fb9f3a"
             ],
             [
              0.8888888888888888,
              "#fdca26"
             ],
             [
              1,
              "#f0f921"
             ]
            ],
            "type": "contour"
           }
          ],
          "contourcarpet": [
           {
            "colorbar": {
             "outlinewidth": 0,
             "ticks": ""
            },
            "type": "contourcarpet"
           }
          ],
          "heatmap": [
           {
            "colorbar": {
             "outlinewidth": 0,
             "ticks": ""
            },
            "colorscale": [
             [
              0,
              "#0d0887"
             ],
             [
              0.1111111111111111,
              "#46039f"
             ],
             [
              0.2222222222222222,
              "#7201a8"
             ],
             [
              0.3333333333333333,
              "#9c179e"
             ],
             [
              0.4444444444444444,
              "#bd3786"
             ],
             [
              0.5555555555555556,
              "#d8576b"
             ],
             [
              0.6666666666666666,
              "#ed7953"
             ],
             [
              0.7777777777777778,
              "#fb9f3a"
             ],
             [
              0.8888888888888888,
              "#fdca26"
             ],
             [
              1,
              "#f0f921"
             ]
            ],
            "type": "heatmap"
           }
          ],
          "heatmapgl": [
           {
            "colorbar": {
             "outlinewidth": 0,
             "ticks": ""
            },
            "colorscale": [
             [
              0,
              "#0d0887"
             ],
             [
              0.1111111111111111,
              "#46039f"
             ],
             [
              0.2222222222222222,
              "#7201a8"
             ],
             [
              0.3333333333333333,
              "#9c179e"
             ],
             [
              0.4444444444444444,
              "#bd3786"
             ],
             [
              0.5555555555555556,
              "#d8576b"
             ],
             [
              0.6666666666666666,
              "#ed7953"
             ],
             [
              0.7777777777777778,
              "#fb9f3a"
             ],
             [
              0.8888888888888888,
              "#fdca26"
             ],
             [
              1,
              "#f0f921"
             ]
            ],
            "type": "heatmapgl"
           }
          ],
          "histogram": [
           {
            "marker": {
             "pattern": {
              "fillmode": "overlay",
              "size": 10,
              "solidity": 0.2
             }
            },
            "type": "histogram"
           }
          ],
          "histogram2d": [
           {
            "colorbar": {
             "outlinewidth": 0,
             "ticks": ""
            },
            "colorscale": [
             [
              0,
              "#0d0887"
             ],
             [
              0.1111111111111111,
              "#46039f"
             ],
             [
              0.2222222222222222,
              "#7201a8"
             ],
             [
              0.3333333333333333,
              "#9c179e"
             ],
             [
              0.4444444444444444,
              "#bd3786"
             ],
             [
              0.5555555555555556,
              "#d8576b"
             ],
             [
              0.6666666666666666,
              "#ed7953"
             ],
             [
              0.7777777777777778,
              "#fb9f3a"
             ],
             [
              0.8888888888888888,
              "#fdca26"
             ],
             [
              1,
              "#f0f921"
             ]
            ],
            "type": "histogram2d"
           }
          ],
          "histogram2dcontour": [
           {
            "colorbar": {
             "outlinewidth": 0,
             "ticks": ""
            },
            "colorscale": [
             [
              0,
              "#0d0887"
             ],
             [
              0.1111111111111111,
              "#46039f"
             ],
             [
              0.2222222222222222,
              "#7201a8"
             ],
             [
              0.3333333333333333,
              "#9c179e"
             ],
             [
              0.4444444444444444,
              "#bd3786"
             ],
             [
              0.5555555555555556,
              "#d8576b"
             ],
             [
              0.6666666666666666,
              "#ed7953"
             ],
             [
              0.7777777777777778,
              "#fb9f3a"
             ],
             [
              0.8888888888888888,
              "#fdca26"
             ],
             [
              1,
              "#f0f921"
             ]
            ],
            "type": "histogram2dcontour"
           }
          ],
          "mesh3d": [
           {
            "colorbar": {
             "outlinewidth": 0,
             "ticks": ""
            },
            "type": "mesh3d"
           }
          ],
          "parcoords": [
           {
            "line": {
             "colorbar": {
              "outlinewidth": 0,
              "ticks": ""
             }
            },
            "type": "parcoords"
           }
          ],
          "pie": [
           {
            "automargin": true,
            "type": "pie"
           }
          ],
          "scatter": [
           {
            "fillpattern": {
             "fillmode": "overlay",
             "size": 10,
             "solidity": 0.2
            },
            "type": "scatter"
           }
          ],
          "scatter3d": [
           {
            "line": {
             "colorbar": {
              "outlinewidth": 0,
              "ticks": ""
             }
            },
            "marker": {
             "colorbar": {
              "outlinewidth": 0,
              "ticks": ""
             }
            },
            "type": "scatter3d"
           }
          ],
          "scattercarpet": [
           {
            "marker": {
             "colorbar": {
              "outlinewidth": 0,
              "ticks": ""
             }
            },
            "type": "scattercarpet"
           }
          ],
          "scattergeo": [
           {
            "marker": {
             "colorbar": {
              "outlinewidth": 0,
              "ticks": ""
             }
            },
            "type": "scattergeo"
           }
          ],
          "scattergl": [
           {
            "marker": {
             "colorbar": {
              "outlinewidth": 0,
              "ticks": ""
             }
            },
            "type": "scattergl"
           }
          ],
          "scattermapbox": [
           {
            "marker": {
             "colorbar": {
              "outlinewidth": 0,
              "ticks": ""
             }
            },
            "type": "scattermapbox"
           }
          ],
          "scatterpolar": [
           {
            "marker": {
             "colorbar": {
              "outlinewidth": 0,
              "ticks": ""
             }
            },
            "type": "scatterpolar"
           }
          ],
          "scatterpolargl": [
           {
            "marker": {
             "colorbar": {
              "outlinewidth": 0,
              "ticks": ""
             }
            },
            "type": "scatterpolargl"
           }
          ],
          "scatterternary": [
           {
            "marker": {
             "colorbar": {
              "outlinewidth": 0,
              "ticks": ""
             }
            },
            "type": "scatterternary"
           }
          ],
          "surface": [
           {
            "colorbar": {
             "outlinewidth": 0,
             "ticks": ""
            },
            "colorscale": [
             [
              0,
              "#0d0887"
             ],
             [
              0.1111111111111111,
              "#46039f"
             ],
             [
              0.2222222222222222,
              "#7201a8"
             ],
             [
              0.3333333333333333,
              "#9c179e"
             ],
             [
              0.4444444444444444,
              "#bd3786"
             ],
             [
              0.5555555555555556,
              "#d8576b"
             ],
             [
              0.6666666666666666,
              "#ed7953"
             ],
             [
              0.7777777777777778,
              "#fb9f3a"
             ],
             [
              0.8888888888888888,
              "#fdca26"
             ],
             [
              1,
              "#f0f921"
             ]
            ],
            "type": "surface"
           }
          ],
          "table": [
           {
            "cells": {
             "fill": {
              "color": "#EBF0F8"
             },
             "line": {
              "color": "white"
             }
            },
            "header": {
             "fill": {
              "color": "#C8D4E3"
             },
             "line": {
              "color": "white"
             }
            },
            "type": "table"
           }
          ]
         },
         "layout": {
          "annotationdefaults": {
           "arrowcolor": "#2a3f5f",
           "arrowhead": 0,
           "arrowwidth": 1
          },
          "autotypenumbers": "strict",
          "coloraxis": {
           "colorbar": {
            "outlinewidth": 0,
            "ticks": ""
           }
          },
          "colorscale": {
           "diverging": [
            [
             0,
             "#8e0152"
            ],
            [
             0.1,
             "#c51b7d"
            ],
            [
             0.2,
             "#de77ae"
            ],
            [
             0.3,
             "#f1b6da"
            ],
            [
             0.4,
             "#fde0ef"
            ],
            [
             0.5,
             "#f7f7f7"
            ],
            [
             0.6,
             "#e6f5d0"
            ],
            [
             0.7,
             "#b8e186"
            ],
            [
             0.8,
             "#7fbc41"
            ],
            [
             0.9,
             "#4d9221"
            ],
            [
             1,
             "#276419"
            ]
           ],
           "sequential": [
            [
             0,
             "#0d0887"
            ],
            [
             0.1111111111111111,
             "#46039f"
            ],
            [
             0.2222222222222222,
             "#7201a8"
            ],
            [
             0.3333333333333333,
             "#9c179e"
            ],
            [
             0.4444444444444444,
             "#bd3786"
            ],
            [
             0.5555555555555556,
             "#d8576b"
            ],
            [
             0.6666666666666666,
             "#ed7953"
            ],
            [
             0.7777777777777778,
             "#fb9f3a"
            ],
            [
             0.8888888888888888,
             "#fdca26"
            ],
            [
             1,
             "#f0f921"
            ]
           ],
           "sequentialminus": [
            [
             0,
             "#0d0887"
            ],
            [
             0.1111111111111111,
             "#46039f"
            ],
            [
             0.2222222222222222,
             "#7201a8"
            ],
            [
             0.3333333333333333,
             "#9c179e"
            ],
            [
             0.4444444444444444,
             "#bd3786"
            ],
            [
             0.5555555555555556,
             "#d8576b"
            ],
            [
             0.6666666666666666,
             "#ed7953"
            ],
            [
             0.7777777777777778,
             "#fb9f3a"
            ],
            [
             0.8888888888888888,
             "#fdca26"
            ],
            [
             1,
             "#f0f921"
            ]
           ]
          },
          "colorway": [
           "#636efa",
           "#EF553B",
           "#00cc96",
           "#ab63fa",
           "#FFA15A",
           "#19d3f3",
           "#FF6692",
           "#B6E880",
           "#FF97FF",
           "#FECB52"
          ],
          "font": {
           "color": "#2a3f5f"
          },
          "geo": {
           "bgcolor": "white",
           "lakecolor": "white",
           "landcolor": "#E5ECF6",
           "showlakes": true,
           "showland": true,
           "subunitcolor": "white"
          },
          "hoverlabel": {
           "align": "left"
          },
          "hovermode": "closest",
          "mapbox": {
           "style": "light"
          },
          "paper_bgcolor": "white",
          "plot_bgcolor": "#E5ECF6",
          "polar": {
           "angularaxis": {
            "gridcolor": "white",
            "linecolor": "white",
            "ticks": ""
           },
           "bgcolor": "#E5ECF6",
           "radialaxis": {
            "gridcolor": "white",
            "linecolor": "white",
            "ticks": ""
           }
          },
          "scene": {
           "xaxis": {
            "backgroundcolor": "#E5ECF6",
            "gridcolor": "white",
            "gridwidth": 2,
            "linecolor": "white",
            "showbackground": true,
            "ticks": "",
            "zerolinecolor": "white"
           },
           "yaxis": {
            "backgroundcolor": "#E5ECF6",
            "gridcolor": "white",
            "gridwidth": 2,
            "linecolor": "white",
            "showbackground": true,
            "ticks": "",
            "zerolinecolor": "white"
           },
           "zaxis": {
            "backgroundcolor": "#E5ECF6",
            "gridcolor": "white",
            "gridwidth": 2,
            "linecolor": "white",
            "showbackground": true,
            "ticks": "",
            "zerolinecolor": "white"
           }
          },
          "shapedefaults": {
           "line": {
            "color": "#2a3f5f"
           }
          },
          "ternary": {
           "aaxis": {
            "gridcolor": "white",
            "linecolor": "white",
            "ticks": ""
           },
           "baxis": {
            "gridcolor": "white",
            "linecolor": "white",
            "ticks": ""
           },
           "bgcolor": "#E5ECF6",
           "caxis": {
            "gridcolor": "white",
            "linecolor": "white",
            "ticks": ""
           }
          },
          "title": {
           "x": 0.05
          },
          "xaxis": {
           "automargin": true,
           "gridcolor": "white",
           "linecolor": "white",
           "ticks": "",
           "title": {
            "standoff": 15
           },
           "zerolinecolor": "white",
           "zerolinewidth": 2
          },
          "yaxis": {
           "automargin": true,
           "gridcolor": "white",
           "linecolor": "white",
           "ticks": "",
           "title": {
            "standoff": 15
           },
           "zerolinecolor": "white",
           "zerolinewidth": 2
          }
         }
        },
        "title": {
         "font": {
          "size": 16
         },
         "text": "Proporción de productos por Tipos de Piel"
        }
       }
      }
     },
     "metadata": {},
     "output_type": "display_data"
    }
   ],
   "source": [
    "# Calcular la proporción de tipos de piel\n",
    "tipo_piel_data = df_cosmeticos['Tipo_piel'].value_counts(normalize=True).reset_index()\n",
    "tipo_piel_data.columns = ['Tipo_piel', 'Proporción']\n",
    "\n",
    "# Crear el gráfico de pastel interactivo\n",
    "fig = px.pie(\n",
    "    tipo_piel_data,\n",
    "    names='Tipo_piel',\n",
    "    values='Proporción',\n",
    "    title=\"Proporción de productos por Tipos de Piel\",\n",
    "    color_discrete_sequence=px.colors.qualitative.Pastel\n",
    ")\n",
    "\n",
    "# Personalizar el diseño\n",
    "fig.update_traces(\n",
    "    textinfo='none',  # Quitar etiquetas numéricas de las porciones\n",
    "    hovertemplate='%{label}: %{percent}',  # Mostrar valores en porcentaje al pasar el mouse\n",
    ")\n",
    "\n",
    "fig.update_layout(title_font_size=16)\n",
    "\n",
    "# Mostrar el gráfico\n",
    "fig.show()"
   ]
  },
  {
   "cell_type": "code",
   "execution_count": 20,
   "id": "eaf30d9c",
   "metadata": {},
   "outputs": [
    {
     "name": "stdout",
     "output_type": "stream",
     "text": [
      "Análisis para la categoría: Antiarrugas y antiedad\n",
      "       Calificacion  Precio_Euros\n",
      "count    182.000000    182.000000\n",
      "mean       4.733681    149.319725\n",
      "std        0.420132    110.565130\n",
      "min        2.330000     22.500000\n",
      "25%        4.670000     77.000000\n",
      "50%        4.860000    122.000000\n",
      "75%        5.000000    170.000000\n",
      "max        5.000000    509.000000\n",
      "Análisis para la categoría: Antimanchas\n",
      "       Calificacion  Precio_Euros\n",
      "count     13.000000     13.000000\n",
      "mean       4.800000     76.846154\n",
      "std        0.234769     40.682912\n",
      "min        4.500000     37.000000\n",
      "25%        4.500000     49.500000\n",
      "50%        4.970000     65.000000\n",
      "75%        5.000000    109.000000\n",
      "max        5.000000    147.000000\n",
      "Análisis para la categoría: Contorno de Ojos\n",
      "       Calificacion  Precio_Euros\n",
      "count     40.000000     40.000000\n",
      "mean       4.545500    100.807000\n",
      "std        0.527374     64.440604\n",
      "min        2.000000     33.990000\n",
      "25%        4.410000     53.000000\n",
      "50%        4.620000     86.000000\n",
      "75%        4.895000    119.837500\n",
      "max        5.000000    290.000000\n",
      "Análisis para la categoría: Exfoliantes\n",
      "       Calificacion  Precio_Euros\n",
      "count     12.000000     12.000000\n",
      "mean       4.456667     54.991667\n",
      "std        0.536713     30.406345\n",
      "min        3.330000     22.000000\n",
      "25%        4.187500     37.000000\n",
      "50%        4.385000     39.000000\n",
      "75%        5.000000     72.450000\n",
      "max        5.000000    126.000000\n",
      "Análisis para la categoría: Hidratantes y Nutrivas\n",
      "       Calificacion  Precio_Euros\n",
      "count    228.000000    228.000000\n",
      "mean       4.713684     92.271491\n",
      "std        0.531185     74.533176\n",
      "min        1.000000     11.000000\n",
      "25%        4.670000     49.000000\n",
      "50%        4.900000     64.000000\n",
      "75%        5.000000    130.000000\n",
      "max        5.000000    490.000000\n",
      "Análisis para la categoría: Tratamientos calmantes\n",
      "       Calificacion  Precio_Euros\n",
      "count      9.000000      9.000000\n",
      "mean       4.704444     44.611111\n",
      "std        0.423028     12.061762\n",
      "min        4.000000     27.000000\n",
      "25%        4.670000     37.000000\n",
      "50%        5.000000     42.500000\n",
      "75%        5.000000     57.500000\n",
      "max        5.000000     60.500000\n",
      "Análisis para la categoría: Tratamientos especificos\n",
      "       Calificacion  Precio_Euros\n",
      "count    124.000000    124.000000\n",
      "mean       4.752097     86.234677\n",
      "std        0.391088     90.044428\n",
      "min        3.000000     24.000000\n",
      "25%        4.670000     45.500000\n",
      "50%        5.000000     56.000000\n",
      "75%        5.000000     87.950000\n",
      "max        5.000000    491.300000\n",
      "Análisis para la categoría: limpiadoras tonicos\n",
      "       Calificacion  Precio_Euros\n",
      "count     78.000000     78.000000\n",
      "mean       4.830769     49.427692\n",
      "std        0.247270     29.005920\n",
      "min        4.000000     15.000000\n",
      "25%        4.762500     30.250000\n",
      "50%        4.935000     36.915000\n",
      "75%        5.000000     58.375000\n",
      "max        5.000000    171.500000\n"
     ]
    }
   ],
   "source": [
    "# Segmentación por categoría\n",
    "for categoria, grupo in df_cosmeticos.groupby('Categoria'):\n",
    "    print(f\"Análisis para la categoría: {categoria}\")\n",
    "    print(grupo[['Calificacion', 'Precio_Euros']].describe())"
   ]
  },
  {
   "cell_type": "code",
   "execution_count": 21,
   "id": "5369a853",
   "metadata": {},
   "outputs": [
    {
     "data": {
      "image/png": "[encoded data removed]",
      "text/plain": [
       "<Figure size 640x480 with 1 Axes>"
      ]
     },
     "metadata": {},
     "output_type": "display_data"
    }
   ],
   "source": [
    "# Gráfico de densidad para el precio\n",
    "sns.kdeplot(data=df_cosmeticos, x='Precio_Euros', fill=True, color='orange')\n",
    "plt.title(\"Densidad del Precio_Euros\", fontsize=14)\n",
    "plt.xlabel(\"Precio_Euros\")\n",
    "plt.show()"
   ]
  },
  {
   "cell_type": "code",
   "execution_count": 22,
   "id": "f9c2003b",
   "metadata": {},
   "outputs": [
    {
     "data": {
      "image/png": "[encoded data removed]",
      "text/plain": [
       "<Figure size 640x480 with 1 Axes>"
      ]
     },
     "metadata": {},
     "output_type": "display_data"
    }
   ],
   "source": [
    "# Gráfico de densidad para el Calificacion\n",
    "sns.kdeplot(data=df_cosmeticos, x='Calificacion', fill=True, color='orange')\n",
    "plt.title(\"Densidad de la Calificacion\", fontsize=14)\n",
    "plt.xlabel(\"Precio_Euros\")\n",
    "plt.show()"
   ]
  },
  {
   "cell_type": "code",
   "execution_count": 23,
   "id": "c3d0a48a",
   "metadata": {},
   "outputs": [
    {
     "data": {
      "image/png": "[encoded data removed]",
      "text/plain": [
       "<Figure size 640x480 with 1 Axes>"
      ]
     },
     "metadata": {},
     "output_type": "display_data"
    }
   ],
   "source": [
    "# Gráfico de densidad para el Total_calificadores\n",
    "sns.kdeplot(data=df_cosmeticos, x='Total_calificadores', fill=True, color='orange')\n",
    "plt.title(\"Densidad del Total de Calificadores\", fontsize=14)\n",
    "plt.xlabel(\"Total_calificadores\")\n",
    "plt.show()"
   ]
  },
  {
   "cell_type": "markdown",
   "id": "4401bab0",
   "metadata": {},
   "source": [
    "## 7. Formulación de Hipótesis"
   ]
  },
  {
   "cell_type": "code",
   "execution_count": 24,
   "id": "8a8cc963",
   "metadata": {},
   "outputs": [
    {
     "name": "stdout",
     "output_type": "stream",
     "text": [
      "t = -0.426, p = 0.671\n",
      "No se rechaza la hipótesis nula: no hay diferencia significativa.\n"
     ]
    }
   ],
   "source": [
    "from scipy.stats import ttest_ind\n",
    "\n",
    "# Hipotesis planteada: Las calificaciones de los productos de las categorías \n",
    "# \"Hidratantes y Nutrivas\" y \"Antiarrugas y antiedad\" son iguales.\n",
    "\n",
    "cat1 = \"Hidratantes y Nutrivas\"\n",
    "cat2 = \"Antiarrugas y antiedad\"\n",
    "\n",
    "grupo1 = df_cosmeticos[df_cosmeticos[\"Categoria\"] == cat1][\"Calificacion\"]\n",
    "grupo2 = df_cosmeticos[df_cosmeticos[\"Categoria\"] == cat2][\"Calificacion\"]\n",
    "\n",
    "# Prueba t\n",
    "t_stat, p_value = ttest_ind(grupo1, grupo2, equal_var=False)  # Welch’s t-test\n",
    "\n",
    "print(f\"t = {t_stat:.3f}, p = {p_value:.3f}\")\n",
    "if p_value < 0.05:\n",
    "    print(\"Rechazamos la hipótesis nula: hay diferencia significativa.\")\n",
    "else:\n",
    "    print(\"No se rechaza la hipótesis nula: no hay diferencia significativa.\")\n",
    "    \n",
    "   \n"
   ]
  },
  {
   "cell_type": "markdown",
   "id": "67549c4f",
   "metadata": {},
   "source": [
    "Los resultados muestran que la hipótesis planteada es probable y no se puede rechazar, por lo tanto\n",
    "podríamos afirmar que las calificaciones de las cremas de estas categorías no tienen diferencia significativa."
   ]
  },
  {
   "cell_type": "code",
   "execution_count": null,
   "id": "548a408d",
   "metadata": {},
   "outputs": [
    {
     "name": "stdout",
     "output_type": "stream",
     "text": [
      "Coeficiente de correlación: r = -0.003, p = 0.931\n",
      "No se rechaza H₀: no hay correlación significativa.\n"
     ]
    }
   ],
   "source": [
    "from scipy.stats import pearsonr\n",
    "\n",
    "# Validando, si las calificaciones de los productos dependen del precio\n",
    "# Hipostesis: \"Las calificaciones estan relacionadas con los precios de los productos\"\n",
    "\n",
    "r, p = pearsonr(df_cosmeticos[\"Precio_Euros\"], df_cosmeticos[\"Calificacion\"])\n",
    "print(f\"Coeficiente de correlación: r = {r:.3f}, p = {p:.3f}\")\n",
    "\n",
    "if p < 0.05:\n",
    "    print(\"Rechazamos H₀: hay una correlación significativa.\")\n",
    "else:\n",
    "    print(\"No se rechaza H₀: no hay correlación significativa.\")\n"
   ]
  },
  {
   "cell_type": "markdown",
   "id": "c125c122",
   "metadata": {},
   "source": [
    "De acuerdo a los resultados las calificaciones no tienen correlación significativa con el precio."
   ]
  },
  {
   "cell_type": "markdown",
   "id": "85966443",
   "metadata": {},
   "source": [
    "## 8. Modelo"
   ]
  },
  {
   "cell_type": "code",
   "execution_count": null,
   "id": "b6022543",
   "metadata": {},
   "outputs": [
    {
     "data": {
      "text/plain": [
       "686"
      ]
     },
     "execution_count": 56,
     "metadata": {},
     "output_type": "execute_result"
    }
   ],
   "source": [
    "import sqlite3\n",
    "\n",
    "# Conexión a la base de datos SQLite\n",
    "conexion = sqlite3.connect('data/modeloEstrella/modelo_estrella.db')\n",
    "\n",
    "# Guardar el dataframe completo tal como está\n",
    "df_cosmeticos.to_sql('staging_data', conexion, if_exists='replace', index=False)\n"
   ]
  },
  {
   "cell_type": "code",
   "execution_count": null,
   "id": "92aded36",
   "metadata": {},
   "outputs": [],
   "source": [
    "sql_script = \"\"\"\n",
    "-- TABLA DE DIMENSIÓN: MARCA\n",
    "CREATE TABLE dim_marca (\n",
    "    id_marca INTEGER PRIMARY KEY,\n",
    "    marca VARCHAR(255)\n",
    ");\n",
    "INSERT INTO dim_marca (marca, id_marca)\n",
    "SELECT marca, ROW_NUMBER() OVER () AS id_marca\n",
    "FROM (\n",
    "    SELECT DISTINCT Marca AS marca\n",
    "    FROM staging_data\n",
    ") AS t;\n",
    "\n",
    "-- TABLA DE DIMENSIÓN: CATEGORÍA\n",
    "CREATE TABLE dim_categoria (\n",
    "    id_categoria INTEGER PRIMARY KEY,\n",
    "    categoria VARCHAR(255)\n",
    ");\n",
    "INSERT INTO dim_categoria (categoria, id_categoria)\n",
    "SELECT categoria, ROW_NUMBER() OVER () AS id_categoria\n",
    "FROM (\n",
    "    SELECT DISTINCT Categoria AS categoria\n",
    "    FROM staging_data\n",
    ") AS t;\n",
    "\n",
    "-- TABLA DE DIMENSIÓN: TIPO DE PIEL\n",
    "CREATE TABLE dim_tipo_piel (\n",
    "    id_tipo_piel INTEGER PRIMARY KEY,\n",
    "    tipo_piel VARCHAR(255)\n",
    ");\n",
    "INSERT INTO dim_tipo_piel (tipo_piel, id_tipo_piel)\n",
    "SELECT tipo_piel, ROW_NUMBER() OVER () AS id_tipo_piel\n",
    "FROM (\n",
    "    SELECT DISTINCT Tipo_piel AS tipo_piel\n",
    "    FROM staging_data\n",
    ") AS t;\n",
    "\n",
    "-- TABLA DE DIMENSIÓN: ZONA DE APLICACIÓN\n",
    "CREATE TABLE dim_zona_aplicacion (\n",
    "    id_zona INTEGER PRIMARY KEY,\n",
    "    zona_aplicacion VARCHAR(255)\n",
    ");\n",
    "INSERT INTO dim_zona_aplicacion (zona_aplicacion, id_zona)\n",
    "SELECT zona_aplicacion, ROW_NUMBER() OVER () AS id_zona\n",
    "FROM (\n",
    "    SELECT DISTINCT Zona_aplicacion AS zona_aplicacion\n",
    "    FROM staging_data\n",
    ") AS t;\n",
    "\n",
    "-- TABLA DE DIMENSIÓN: PRODUCTO\n",
    "CREATE TABLE dim_producto (\n",
    "    id_producto INTEGER PRIMARY KEY,\n",
    "    nombre_producto VARCHAR(255)\n",
    ");\n",
    "INSERT INTO dim_producto (nombre_producto, id_producto)\n",
    "SELECT nombre_producto, ROW_NUMBER() OVER () AS id_producto\n",
    "FROM (\n",
    "    SELECT DISTINCT Descripcion AS nombre_producto\n",
    "    FROM staging_data\n",
    ") AS t;\n",
    "\n",
    "-- TABLA DE HECHOS: PRODUCTOS\n",
    "CREATE TABLE hechos_productos (\n",
    "    id_marca INTEGER,\n",
    "    id_categoria INTEGER,\n",
    "    id_tipo_piel INTEGER,\n",
    "    id_zona INTEGER,\n",
    "    id_producto INTEGER,\n",
    "    Calificacion REAL,\n",
    "    Total_calificadores INTEGER,\n",
    "    Precio_Euros REAL,\n",
    "    FOREIGN KEY (id_marca) REFERENCES dim_marca(id_marca),\n",
    "    FOREIGN KEY (id_categoria) REFERENCES dim_categoria(id_categoria),\n",
    "    FOREIGN KEY (id_tipo_piel) REFERENCES dim_tipo_piel(id_tipo_piel),\n",
    "    FOREIGN KEY (id_zona) REFERENCES dim_zona_aplicacion(id_zona),\n",
    "    FOREIGN KEY (id_producto) REFERENCES dim_producto(id_producto)\n",
    ");\n",
    "\n",
    "-- INSERTAR DATOS EN LA TABLA DE HECHOS\n",
    "INSERT INTO hechos_productos (\n",
    "    id_marca, id_categoria, id_tipo_piel, id_zona, id_producto,\n",
    "    Calificacion, Total_calificadores, Precio_Euros\n",
    ")\n",
    "SELECT\n",
    "    m.id_marca,\n",
    "    c.id_categoria,\n",
    "    tp.id_tipo_piel,\n",
    "    z.id_zona,\n",
    "    d.id_producto,\n",
    "    r.Calificacion,\n",
    "    r.Total_calificadores,\n",
    "    r.Precio_Euros\n",
    "FROM staging_data r\n",
    "JOIN dim_marca m ON r.Marca = m.marca\n",
    "JOIN dim_categoria c ON r.Categoria = c.categoria\n",
    "JOIN dim_tipo_piel tp ON r.Tipo_piel = tp.tipo_piel\n",
    "JOIN dim_zona_aplicacion z ON r.Zona_aplicacion = z.zona_aplicacion\n",
    "JOIN dim_producto d ON r.Descripcion = d.nombre_producto;\n",
    "\n",
    "\"\"\"\n",
    "with open('data/modeloEstrella/script_carga_datos_modelo_estrella.sql', 'w', encoding='utf-8') as f:\n",
    "    f.write(sql_script)\n"
   ]
  },
  {
   "cell_type": "code",
   "execution_count": null,
   "id": "5f1ac858",
   "metadata": {},
   "outputs": [],
   "source": [
    "with open('data/modeloEstrella/script_carga_datos_modelo_estrella.sql', 'r', encoding='utf-8') as f:\n",
    "    sql = f.read()\n",
    "\n",
    "cursor = conexion.cursor()\n",
    "cursor.executescript(sql)\n",
    "conexion.commit()\n",
    "conexion.close()\n"
   ]
  }
 ],
 "metadata": {
  "kernelspec": {
   "display_name": "Analisis_Cosmeticos",
   "language": "python",
   "name": "python3"
  },
  "language_info": {
   "codemirror_mode": {
    "name": "ipython",
    "version": 3
   },
   "file_extension": ".py",
   "mimetype": "text/x-python",
   "name": "python",
   "nbconvert_exporter": "python",
   "pygments_lexer": "ipython3",
   "version": "3.12.9"
  }
 },
 "nbformat": 4,
 "nbformat_minor": 5
}
